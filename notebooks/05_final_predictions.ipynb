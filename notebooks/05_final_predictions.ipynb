{
 "cells": [
  {
   "cell_type": "markdown",
   "id": "3321f2b6-12d4-4f1c-9d2b-bdcb1693bd83",
   "metadata": {},
   "source": [
    "#### Import Libraries and Setup"
   ]
  },
  {
   "cell_type": "code",
   "execution_count": 2,
   "id": "9ab12416-7673-4ecc-847f-7f3b1bbaf9f1",
   "metadata": {},
   "outputs": [
    {
     "name": "stdout",
     "output_type": "stream",
     "text": [
      "Libraries imported successfully\n",
      "Ready to generate final predictions with champion XGBoost model\n",
      "Working directory: C:\\Users\\Carlos\\Documents\\Data Science program\\000 my_models\\001_portfolio_house_prices\\house-prices-advanced-regression-techniques\\notebooks\n"
     ]
    }
   ],
   "source": [
    "# Import essential libraries for final predictions\n",
    "import pandas as pd\n",
    "import numpy as np\n",
    "import joblib\n",
    "from pathlib import Path\n",
    "import warnings\n",
    "warnings.filterwarnings('ignore')\n",
    "\n",
    "# Import custom module\n",
    "import sys\n",
    "sys.path.append('../src')\n",
    "from feature_engineering import FeatureEngineer\n",
    "\n",
    "# Machine learning libraries\n",
    "from sklearn.metrics import mean_squared_error, r2_score\n",
    "\n",
    "print(\"Libraries imported successfully\")\n",
    "print(\"Ready to generate final predictions with champion XGBoost model\")\n",
    "print(f\"Working directory: {Path.cwd()}\")"
   ]
  },
  {
   "cell_type": "code",
   "execution_count": null,
   "id": "bec50aaa-3d49-4c6e-b27f-ddb1a3cab57c",
   "metadata": {},
   "outputs": [],
   "source": []
  },
  {
   "cell_type": "markdown",
   "id": "670a59a7-fe90-4104-938b-ca5022990cf9",
   "metadata": {},
   "source": [
    "#### Load Data and Champion Model"
   ]
  },
  {
   "cell_type": "code",
   "execution_count": 4,
   "id": "2c21cdbe-f7a3-43e5-8d13-01e6c663c179",
   "metadata": {},
   "outputs": [
    {
     "name": "stdout",
     "output_type": "stream",
     "text": [
      "Data loaded:\n",
      "Training data shape: (1460, 81)\n",
      "Test data shape: (1459, 80)\n",
      "\n",
      "Test data preparation:\n",
      "Test features: (1459, 79)\n",
      "Test IDs: 1459\n",
      "\n",
      "Champion model loaded successfully!\n",
      "Model path: ..\\models\\champion_xgboost_model.pkl\n",
      "Model type: <class 'sklearn.pipeline.Pipeline'>\n",
      "Ready for final predictions!\n"
     ]
    }
   ],
   "source": [
    "# Load the datasets\n",
    "train_df = pd.read_csv('../data/train.csv')\n",
    "test_df = pd.read_csv('../data/test.csv')\n",
    "\n",
    "print(\"Data loaded:\")\n",
    "print(f\"Training data shape: {train_df.shape}\")\n",
    "print(f\"Test data shape: {test_df.shape}\")\n",
    "\n",
    "# Prepare test data for predictions\n",
    "X_test = test_df.drop(['Id'], axis=1)\n",
    "test_ids = test_df['Id'].copy()\n",
    "\n",
    "print(f\"\\nTest data preparation:\")\n",
    "print(f\"Test features: {X_test.shape}\")\n",
    "print(f\"Test IDs: {len(test_ids)}\")\n",
    "\n",
    "# Load the champion model saved from Notebook 04\n",
    "champion_model_path = Path('../models/champion_xgboost_model.pkl')\n",
    "champion_model = joblib.load(champion_model_path)\n",
    "\n",
    "print(f\"\\nChampion model loaded successfully!\")\n",
    "print(f\"Model path: {champion_model_path}\")\n",
    "print(f\"Model type: {type(champion_model)}\")\n",
    "print(f\"Ready for final predictions!\")"
   ]
  },
  {
   "cell_type": "code",
   "execution_count": null,
   "id": "badb0fc8-042b-4862-a5d2-db0ebbca1ed0",
   "metadata": {},
   "outputs": [],
   "source": []
  },
  {
   "cell_type": "markdown",
   "id": "cd8c8b57-7623-4405-9f1e-7dedfbd14eb7",
   "metadata": {},
   "source": [
    "#### Generate Final Predictions"
   ]
  },
  {
   "cell_type": "code",
   "execution_count": 5,
   "id": "b30b4d2a-67a6-4261-b45c-d68c30805d6b",
   "metadata": {},
   "outputs": [
    {
     "name": "stdout",
     "output_type": "stream",
     "text": [
      "GENERATING FINAL PREDICTIONS\n",
      "===================================\n",
      "Applying champion XGBoost pipeline to test data...\n",
      "Pipeline includes:\n",
      "  1. Feature Engineering (TotalSF, TotalBath, age features)\n",
      "  2. Preprocessing (imputation, scaling, encoding)\n",
      "  3. Optimized XGBoost model\n",
      "\n",
      "Predictions generated successfully!\n",
      "Number of predictions: 1459\n",
      "Prediction statistics:\n",
      "  Mean: $178,762\n",
      "  Median: $158,707\n",
      "  Min: $49,033\n",
      "  Max: $501,272\n",
      "  Std: $75,832\n",
      "\n",
      "First 10 predictions:\n",
      "  House ID 1461: $124,003\n",
      "  House ID 1462: $162,829\n",
      "  House ID 1463: $176,590\n",
      "  House ID 1464: $186,512\n",
      "  House ID 1465: $189,005\n",
      "  House ID 1466: $176,071\n",
      "  House ID 1467: $169,968\n",
      "  House ID 1468: $162,555\n",
      "  House ID 1469: $179,631\n",
      "  House ID 1470: $122,000\n",
      "\n",
      "Predictions ready for submission/analysis!\n"
     ]
    }
   ],
   "source": [
    "# Generate predictions on test dataset\n",
    "print(\"GENERATING FINAL PREDICTIONS\")\n",
    "print(\"=\" * 35)\n",
    "\n",
    "print(\"Applying champion XGBoost pipeline to test data...\")\n",
    "print(\"Pipeline includes:\")\n",
    "print(\"  1. Feature Engineering (TotalSF, TotalBath, age features)\")\n",
    "print(\"  2. Preprocessing (imputation, scaling, encoding)\")\n",
    "print(\"  3. Optimized XGBoost model\")\n",
    "\n",
    "# Generate predictions\n",
    "test_predictions = champion_model.predict(X_test)\n",
    "\n",
    "print(f\"\\nPredictions generated successfully!\")\n",
    "print(f\"Number of predictions: {len(test_predictions)}\")\n",
    "print(f\"Prediction statistics:\")\n",
    "print(f\"  Mean: ${test_predictions.mean():,.0f}\")\n",
    "print(f\"  Median: ${np.median(test_predictions):,.0f}\")\n",
    "print(f\"  Min: ${test_predictions.min():,.0f}\")\n",
    "print(f\"  Max: ${test_predictions.max():,.0f}\")\n",
    "print(f\"  Std: ${test_predictions.std():,.0f}\")\n",
    "\n",
    "# Show first few predictions\n",
    "print(f\"\\nFirst 10 predictions:\")\n",
    "for i in range(10):\n",
    "    house_id = test_ids.iloc[i]\n",
    "    prediction = test_predictions[i]\n",
    "    print(f\"  House ID {house_id}: ${prediction:,.0f}\")\n",
    "\n",
    "print(f\"\\nPredictions ready for submission/analysis!\")"
   ]
  },
  {
   "cell_type": "code",
   "execution_count": null,
   "id": "3b66f9a5-5156-44d6-9bbf-0d9fbf266adc",
   "metadata": {},
   "outputs": [],
   "source": []
  },
  {
   "cell_type": "markdown",
   "id": "972186d9-901c-4d55-8895-590ccf193468",
   "metadata": {},
   "source": [
    "#### Save Predictions and Create Output Files"
   ]
  },
  {
   "cell_type": "code",
   "execution_count": 6,
   "id": "ccf20307-7da9-4f04-9a1a-81d79e565a2a",
   "metadata": {},
   "outputs": [
    {
     "name": "stdout",
     "output_type": "stream",
     "text": [
      "SAVING PREDICTION RESULTS\n",
      "==============================\n",
      "Predictions saved to: ..\\data\\house_price_predictions.csv\n",
      "Format: Kaggle submission ready (Id, SalePrice)\n",
      "Records: 1459\n",
      "\n",
      "Submission file preview:\n",
      "     Id      SalePrice\n",
      "0  1461  124002.695312\n",
      "1  1462  162829.312500\n",
      "2  1463  176590.015625\n",
      "3  1464  186512.031250\n",
      "4  1465  189004.984375\n",
      "5  1466  176071.312500\n",
      "6  1467  169967.531250\n",
      "7  1468  162555.281250\n",
      "8  1469  179630.828125\n",
      "9  1470  121999.773438\n",
      "\n",
      "Detailed results saved to: ..\\models\\prediction_results_summary.json\n",
      "\n",
      "FINAL PREDICTIONS COMPLETE!\n",
      "Ready for deployment or Kaggle submission\n"
     ]
    }
   ],
   "source": [
    "# Create prediction results DataFrame\n",
    "predictions_df = pd.DataFrame({\n",
    "    'Id': test_ids,\n",
    "    'SalePrice': test_predictions\n",
    "})\n",
    "\n",
    "print(\"SAVING PREDICTION RESULTS\")\n",
    "print(\"=\" * 30)\n",
    "\n",
    "# Save predictions to CSV (Kaggle submission format)\n",
    "submission_path = Path('../data/house_price_predictions.csv')\n",
    "predictions_df.to_csv(submission_path, index=False)\n",
    "\n",
    "print(f\"Predictions saved to: {submission_path}\")\n",
    "print(f\"Format: Kaggle submission ready (Id, SalePrice)\")\n",
    "print(f\"Records: {len(predictions_df)}\")\n",
    "\n",
    "# Display the submission file format\n",
    "print(f\"\\nSubmission file preview:\")\n",
    "print(predictions_df.head(10))\n",
    "\n",
    "# Save detailed results with statistics\n",
    "results_summary = {\n",
    "    'model_name': 'XGBoost',\n",
    "    'model_performance': {\n",
    "        'r2_score': 0.9148,\n",
    "        'rmse': 25559\n",
    "    },\n",
    "    'prediction_statistics': {\n",
    "        'count': len(test_predictions),\n",
    "        'mean': float(test_predictions.mean()),\n",
    "        'median': float(np.median(test_predictions)),\n",
    "        'min': float(test_predictions.min()),\n",
    "        'max': float(test_predictions.max()),\n",
    "        'std': float(test_predictions.std())\n",
    "    },\n",
    "    'model_parameters': {\n",
    "        'learning_rate': 0.1,\n",
    "        'max_depth': 3,\n",
    "        'n_estimators': 200\n",
    "    }\n",
    "}\n",
    "\n",
    "import json\n",
    "results_path = Path('../models/prediction_results_summary.json')\n",
    "with open(results_path, 'w') as f:\n",
    "    json.dump(results_summary, f, indent=2)\n",
    "\n",
    "print(f\"\\nDetailed results saved to: {results_path}\")\n",
    "print(f\"\\nFINAL PREDICTIONS COMPLETE!\")\n",
    "print(f\"Ready for deployment or Kaggle submission\")"
   ]
  },
  {
   "cell_type": "code",
   "execution_count": null,
   "id": "d304a81c-5827-4cfc-beda-1cd1eb830e90",
   "metadata": {},
   "outputs": [],
   "source": []
  },
  {
   "cell_type": "markdown",
   "id": "19c25a9e-eab2-4589-a439-90cc154d6f89",
   "metadata": {},
   "source": [
    "#### Project Completion Summary"
   ]
  },
  {
   "cell_type": "code",
   "execution_count": 7,
   "id": "534e0732-d058-4702-bc3d-354e9fd6aeb5",
   "metadata": {},
   "outputs": [
    {
     "name": "stdout",
     "output_type": "stream",
     "text": [
      "🎉 HOUSE PRICE PREDICTION PROJECT COMPLETED! 🎉\n",
      "=======================================================\n",
      "PROJECT ACHIEVEMENTS:\n",
      "✅ Built professional preprocessing pipeline with ColumnTransformer\n",
      "✅ Implemented modular code architecture (src/feature_engineering.py)\n",
      "✅ Optimized 5 ML models using GridSearchCV\n",
      "✅ Achieved 91.5% R² performance with XGBoost\n",
      "✅ Generated 1,459 test predictions\n",
      "✅ Created production-ready model artifacts\n",
      "\n",
      "FINAL MODEL PERFORMANCE:\n",
      "  Champion: XGBoost\n",
      "  R² Score: 0.9148 (91.5% variance explained)\n",
      "  RMSE: $25,559\n",
      "  Hyperparameters: learning_rate=0.1, max_depth=3, n_estimators=200\n",
      "\n",
      "PROJECT DELIVERABLES:\n",
      "  📊 5 Jupyter notebooks (exploration → predictions)\n",
      "  🔧 Preprocessing pipeline: models/preprocessing_pipeline.pkl\n",
      "  🏆 Champion model: models/champion_xgboost_model.pkl\n",
      "  📈 Predictions: data/house_price_predictions.csv\n",
      "  📋 Results summary: models/prediction_results_summary.json\n",
      "  🏗️ Modular code: src/feature_engineering.py\n",
      "\n",
      "TECHNICAL HIGHLIGHTS:\n",
      "  • Production-safe preprocessing (no data leakage)\n",
      "  • Professional pipeline architecture\n",
      "  • Comprehensive hyperparameter optimization\n",
      "  • End-to-end reproducible workflow\n",
      "  • Portfolio-ready documentation\n",
      "\n",
      "🚀 PROJECT READY FOR PORTFOLIO AND PRODUCTION DEPLOYMENT! 🚀\n"
     ]
    }
   ],
   "source": [
    "# PROJECT COMPLETION SUMMARY\n",
    "print(\"🎉 HOUSE PRICE PREDICTION PROJECT COMPLETED! 🎉\")\n",
    "print(\"=\" * 55)\n",
    "\n",
    "print(\"PROJECT ACHIEVEMENTS:\")\n",
    "print(\"✅ Built professional preprocessing pipeline with ColumnTransformer\")\n",
    "print(\"✅ Implemented modular code architecture (src/feature_engineering.py)\")\n",
    "print(\"✅ Optimized 5 ML models using GridSearchCV\")\n",
    "print(\"✅ Achieved 91.5% R² performance with XGBoost\")\n",
    "print(\"✅ Generated 1,459 test predictions\")\n",
    "print(\"✅ Created production-ready model artifacts\")\n",
    "\n",
    "print(f\"\\nFINAL MODEL PERFORMANCE:\")\n",
    "print(f\"  Champion: XGBoost\")\n",
    "print(f\"  R² Score: 0.9148 (91.5% variance explained)\")\n",
    "print(f\"  RMSE: $25,559\")\n",
    "print(f\"  Hyperparameters: learning_rate=0.1, max_depth=3, n_estimators=200\")\n",
    "\n",
    "print(f\"\\nPROJECT DELIVERABLES:\")\n",
    "print(f\"  📊 5 Jupyter notebooks (exploration → predictions)\")\n",
    "print(f\"  🔧 Preprocessing pipeline: models/preprocessing_pipeline.pkl\")\n",
    "print(f\"  🏆 Champion model: models/champion_xgboost_model.pkl\")\n",
    "print(f\"  📈 Predictions: data/house_price_predictions.csv\")\n",
    "print(f\"  📋 Results summary: models/prediction_results_summary.json\")\n",
    "print(f\"  🏗️ Modular code: src/feature_engineering.py\")\n",
    "\n",
    "print(f\"\\nTECHNICAL HIGHLIGHTS:\")\n",
    "print(f\"  • Production-safe preprocessing (no data leakage)\")\n",
    "print(f\"  • Professional pipeline architecture\")\n",
    "print(f\"  • Comprehensive hyperparameter optimization\")\n",
    "print(f\"  • End-to-end reproducible workflow\")\n",
    "print(f\"  • Portfolio-ready documentation\")\n",
    "\n",
    "print(f\"\\n🚀 PROJECT READY FOR PORTFOLIO AND PRODUCTION DEPLOYMENT! 🚀\")"
   ]
  }
 ],
 "metadata": {
  "kernelspec": {
   "display_name": "Python 3 (ipykernel)",
   "language": "python",
   "name": "python3"
  },
  "language_info": {
   "codemirror_mode": {
    "name": "ipython",
    "version": 3
   },
   "file_extension": ".py",
   "mimetype": "text/x-python",
   "name": "python",
   "nbconvert_exporter": "python",
   "pygments_lexer": "ipython3",
   "version": "3.9.23"
  }
 },
 "nbformat": 4,
 "nbformat_minor": 5
}
