{
 "cells": [
  {
   "cell_type": "markdown",
   "id": "96796992-48a1-49cd-ae4b-158c5bfcae47",
   "metadata": {},
   "source": [
    "#### Import Libraries and Load Data"
   ]
  },
  {
   "cell_type": "code",
   "execution_count": null,
   "id": "c7f1aaf6-4211-43d0-97b8-b641f0aa0c94",
   "metadata": {},
   "outputs": [],
   "source": [
    "# Import essential libraries\n",
    "import pandas as pd\n",
    "import numpy as np\n",
    "import matplotlib.pyplot as plt\n",
    "import seaborn as sns\n",
    "\n",
    "# Set up plotting\n",
    "plt.style.use('default')\n",
    "sns.set_palette(\"husl\")\n",
    "%matplotlib inline\n",
    "\n",
    "# Display options for better output\n",
    "pd.set_option('display.max_columns', None)\n",
    "pd.set_option('display.width', None)\n",
    "pd.set_option('display.max_colwidth', None)"
   ]
  },
  {
   "cell_type": "markdown",
   "id": "678fbfe0-db5e-4fcf-9d2f-8ebbc446c568",
   "metadata": {},
   "source": [
    "#### Load the Data"
   ]
  },
  {
   "cell_type": "code",
   "execution_count": null,
   "id": "01325533-5443-490c-ab95-2865777a3320",
   "metadata": {},
   "outputs": [],
   "source": [
    "# Load the training and test datasets\n",
    "train_df = pd.read_csv('../data/train.csv')\n",
    "test_df = pd.read_csv('../data/test.csv')\n",
    "\n",
    "print(f\"Training data shape: {train_df.shape}\")\n",
    "print(f\"Test data shape: {test_df.shape}\")"
   ]
  },
  {
   "cell_type": "markdown",
   "id": "4f56c402-c9e5-4020-9104-60eed87cfcc3",
   "metadata": {},
   "source": [
    "#### Show data"
   ]
  },
  {
   "cell_type": "code",
   "execution_count": null,
   "id": "c2ffbdbd-27ba-4b45-ae33-46f2e386b964",
   "metadata": {},
   "outputs": [],
   "source": [
    "print('First 5 rows of training data')\n",
    "train_df.head(2)"
   ]
  },
  {
   "cell_type": "markdown",
   "id": "e9362a38-97da-4fef-a61f-b2b8aee0a344",
   "metadata": {},
   "source": [
    "#### Basic Dataset Information"
   ]
  },
  {
   "cell_type": "code",
   "execution_count": null,
   "id": "f0256ced-9b18-47ff-bc53-224a3ae1fc81",
   "metadata": {},
   "outputs": [],
   "source": [
    "# Get basic information about the dataset\n",
    "print(\"Dataset Info:\")\n",
    "print(f\"Number of features: {len(train_df.columns)}\")\n",
    "print(f\"Number of training samples: {len(train_df)}\")\n",
    "print(f\"Number of test samples: {len(test_df)}\")\n",
    "\n",
    "print(\"\\nColumn names:\")\n",
    "print(train_df.columns.tolist())"
   ]
  },
  {
   "cell_type": "code",
   "execution_count": null,
   "id": "88fc69f6-0b83-4afa-ac86-98ad1d11512e",
   "metadata": {},
   "outputs": [],
   "source": []
  },
  {
   "cell_type": "code",
   "execution_count": null,
   "id": "123d04ac-b4b3-4aa2-88f8-706c12aa1b55",
   "metadata": {},
   "outputs": [],
   "source": []
  },
  {
   "cell_type": "code",
   "execution_count": null,
   "id": "4f276075-c7be-41eb-b28c-5410646e09e4",
   "metadata": {},
   "outputs": [],
   "source": []
  },
  {
   "cell_type": "code",
   "execution_count": null,
   "id": "7b72e8ab-0739-4a84-991a-ca4553e3574b",
   "metadata": {},
   "outputs": [],
   "source": []
  },
  {
   "cell_type": "code",
   "execution_count": null,
   "id": "93780986-07ba-44e1-b90e-92576e1d31c5",
   "metadata": {},
   "outputs": [],
   "source": []
  }
 ],
 "metadata": {
  "kernelspec": {
   "display_name": "Python 3 (ipykernel)",
   "language": "python",
   "name": "python3"
  },
  "language_info": {
   "codemirror_mode": {
    "name": "ipython",
    "version": 3
   },
   "file_extension": ".py",
   "mimetype": "text/x-python",
   "name": "python",
   "nbconvert_exporter": "python",
   "pygments_lexer": "ipython3",
   "version": "3.9.23"
  }
 },
 "nbformat": 4,
 "nbformat_minor": 5
}
