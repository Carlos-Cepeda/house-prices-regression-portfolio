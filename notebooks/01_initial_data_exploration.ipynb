{
 "cells": [
  {
   "cell_type": "markdown",
   "id": "96796992-48a1-49cd-ae4b-158c5bfcae47",
   "metadata": {},
   "source": [
    "#### Import Libraries and Load Data"
   ]
  },
  {
   "cell_type": "code",
   "execution_count": null,
   "id": "c7f1aaf6-4211-43d0-97b8-b641f0aa0c94",
   "metadata": {},
   "outputs": [],
   "source": [
    "# Import essential libraries\n",
    "import pandas as pd\n",
    "import numpy as np\n",
    "import matplotlib.pyplot as plt\n",
    "import seaborn as sns\n",
    "\n",
    "# Set up plotting\n",
    "plt.style.use('default')\n",
    "sns.set_palette(\"Blues_r\")\n",
    "%matplotlib inline\n",
    "\n",
    "# Display options for better output\n",
    "pd.set_option('display.max_columns', None)\n",
    "pd.set_option('display.width', None)\n",
    "pd.set_option('display.max_colwidth', None)"
   ]
  },
  {
   "cell_type": "markdown",
   "id": "678fbfe0-db5e-4fcf-9d2f-8ebbc446c568",
   "metadata": {},
   "source": [
    "#### Load the Data"
   ]
  },
  {
   "cell_type": "code",
   "execution_count": null,
   "id": "01325533-5443-490c-ab95-2865777a3320",
   "metadata": {},
   "outputs": [],
   "source": [
    "# Load the training and test datasets\n",
    "train_df = pd.read_csv('../data/train.csv')\n",
    "test_df = pd.read_csv('../data/test.csv')\n",
    "\n",
    "print(f\"Training data shape: {train_df.shape}\")\n",
    "print(f\"Test data shape: {test_df.shape}\")"
   ]
  },
  {
   "cell_type": "markdown",
   "id": "4f56c402-c9e5-4020-9104-60eed87cfcc3",
   "metadata": {},
   "source": [
    "#### Show data"
   ]
  },
  {
   "cell_type": "code",
   "execution_count": null,
   "id": "c2ffbdbd-27ba-4b45-ae33-46f2e386b964",
   "metadata": {},
   "outputs": [],
   "source": [
    "print('First 5 rows of training data')\n",
    "train_df.head()"
   ]
  },
  {
   "cell_type": "markdown",
   "id": "e9362a38-97da-4fef-a61f-b2b8aee0a344",
   "metadata": {},
   "source": [
    "#### Basic Dataset Information"
   ]
  },
  {
   "cell_type": "code",
   "execution_count": null,
   "id": "f0256ced-9b18-47ff-bc53-224a3ae1fc81",
   "metadata": {},
   "outputs": [],
   "source": [
    "# Get basic information about the dataset\n",
    "print(\"Dataset Info:\")\n",
    "print(f\"Number of features: {len(train_df.columns)}\")\n",
    "print(f\"Number of training samples: {len(train_df)}\")\n",
    "print(f\"Number of test samples: {len(test_df)}\")\n",
    "\n",
    "print(\"\\nColumn names:\")\n",
    "print(train_df.columns.tolist())"
   ]
  },
  {
   "cell_type": "markdown",
   "id": "bfe1a3bd-51ff-4043-bc2a-738c574245ba",
   "metadata": {},
   "source": [
    "#### Analyze the Target Variable (SalePrice)"
   ]
  },
  {
   "cell_type": "code",
   "execution_count": null,
   "id": "123d04ac-b4b3-4aa2-88f8-706c12aa1b55",
   "metadata": {},
   "outputs": [],
   "source": [
    "# Describe the target variable (SalePrice)\n",
    "print(\"Description of SalePrice:\")\n",
    "print(train_df['SalePrice'].describe())\n",
    "\n",
    "# Visualize the distribution of SalePrice\n",
    "plt.figure(figsize=(10, 6))\n",
    "sns.histplot(train_df['SalePrice'], kde=True, bins=50)\n",
    "plt.title('Distribution of SalePrice')\n",
    "plt.xlabel('Sale Price')\n",
    "plt.ylabel('Frequency')\n",
    "plt.show()"
   ]
  },
  {
   "cell_type": "markdown",
   "id": "559c6c71-e6d9-4316-8013-9a86c4a90c0e",
   "metadata": {},
   "source": [
    "The SalePrice is heavily right-skewed (positively skewed).\n",
    "\n",
    "* What the data tells us:\n",
    "  \n",
    "      Mean ($180,921) > Median ($163,000): Classic sign of right skew\n",
    "      Long tail: Few very expensive houses (up to $755,000) pulling the mean higher\n",
    "      Most houses: Clustered in the $100,000-$250,000 range\n",
    "      Outliers: Several houses above $400,000\n",
    "\n",
    "* Why this matters for machine learning:\n",
    "\n",
    "      Model performance: Many algorithms assume normal distributions\n",
    "      Outlier sensitivity: Linear models can be heavily influenced by those expensive houses\n",
    "      Prediction accuracy: Skewed targets often lead to biased predictions\n",
    "\n",
    "\n",
    "\n",
    "* Next steps we'll need to consider:\n",
    "\n",
    "        Log transformation: log(SalePrice) often makes price data more normal\n",
    "        Outlier analysis: Investigate those very expensive houses\n",
    "        Feature engineering: Create features that capture price ranges"
   ]
  },
  {
   "cell_type": "code",
   "execution_count": null,
   "id": "7b72e8ab-0739-4a84-991a-ca4553e3574b",
   "metadata": {},
   "outputs": [],
   "source": [
    "# Check for missing values in the training data\n",
    "missing_values = train_df.isnull().sum()\n",
    "missing_values = missing_values[missing_values > 0].sort_values(ascending=False)\n",
    "\n",
    "# Display missing values\n",
    "print(\"Missing values in training data:\")\n",
    "print(missing_values)\n",
    "\n",
    "# Visualize the missing values\n",
    "plt.figure(figsize=(12, 6))\n",
    "missing_values.plot(kind='bar')\n",
    "plt.title('Features with Missing Values')\n",
    "plt.xlabel('Features')\n",
    "plt.ylabel('Number of Missing Values')\n",
    "plt.xticks(rotation=45)\n",
    "plt.tight_layout()\n",
    "plt.show()"
   ]
  },
  {
   "cell_type": "markdown",
   "id": "a8bae585-c7b0-4cc3-bbcd-562599d95c08",
   "metadata": {},
   "source": [
    "* Key insight: Most of these missing values indicate absence of features:\n",
    "\n",
    "\n",
    "      PoolQC missing = No pool\n",
    "      Alley missing = No alley access\n",
    "      Fence missing = No fence\n",
    "      FireplaceQu missing = No fireplace\n",
    "  \n",
    "* Notice the patterns:\n",
    "\n",
    "      Garage features (81 missing each) - same houses missing ALL garage info = No Garage\n",
    "      Basement features (37-38 missing each) - same houses missing ALL basement info = No Basement\n",
    "\n",
    "* This is feature engineering gold! Instead of treating these as problems, we can:\n",
    "\n",
    "      Fill missing values with meaningful categories like \"None\" or \"No Pool\"\n",
    "      Create binary features like \"HasPool\", \"HasGarage\", \"HasBasement\"\n",
    "      Use the absence/presence as predictive features"
   ]
  },
  {
   "cell_type": "markdown",
   "id": "921b1a06-2353-42b2-bec1-cee6c04a90dd",
   "metadata": {},
   "source": [
    "#### Separate Numerical and Categorical Features"
   ]
  },
  {
   "cell_type": "code",
   "execution_count": null,
   "id": "b067398c-6180-4bbe-9aeb-82960a227526",
   "metadata": {},
   "outputs": [],
   "source": [
    "# Get a list of numerical and categorical features\n",
    "numerical_features = train_df.select_dtypes(include=np.number).columns.tolist()\n",
    "categorical_features = train_df.select_dtypes(exclude=np.number).columns.tolist()\n",
    "\n",
    "print(f\"Numerical features ({len(numerical_features)}):\")\n",
    "print(numerical_features)\n",
    "print(\"\\n\" + \"-\"*50 + \"\\n\")\n",
    "print(f\"Categorical features ({len(categorical_features)}):\")\n",
    "print(categorical_features)"
   ]
  },
  {
   "cell_type": "markdown",
   "id": "144cc7a6-64dd-4c0b-b322-5bc8e2642049",
   "metadata": {},
   "source": [
    "Key insights:\n",
    "\n",
    "1.Some \"numerical\" features are actually categorical:\n",
    "\n",
    "    MSSubClass (building class codes) should probably be treated as categorical\n",
    "    OverallQual and OverallCond are ordinal ratings (1-10 scales)\n",
    "\n",
    "2.Rich feature engineering opportunities:\n",
    "\n",
    "    Age features: Calculate house age from YearBuilt, renovation age from YearRemodAdd\n",
    "    Area ratios: GrLivArea / LotArea for living space efficiency\n",
    "    Total features: Sum different area measurements\n",
    "    Binary features: HasPool, HasGarage, HasBasement from those missing values we found\n",
    "\n",
    "3.Many categorical features are actually ordinal:\n",
    "\n",
    "    Quality ratings (Poor → Fair → Good → Excellent) can be encoded numerically\n",
    "    This gives us flexibility in how we handle them\n",
    "\n",
    "5.The missing value patterns now make perfect sense:\n",
    "\n",
    "    Quality features missing = that feature doesn't exist on the house"
   ]
  },
  {
   "cell_type": "markdown",
   "id": "60654c31-8f7c-446c-8dd9-49bfbcea1fb0",
   "metadata": {},
   "source": [
    "#### Summary of Numerical Features"
   ]
  },
  {
   "cell_type": "code",
   "execution_count": null,
   "id": "ae0f73dc-b3f6-4928-ac41-027bb93b6f4c",
   "metadata": {},
   "outputs": [],
   "source": [
    "# Get a summary of numerical features\n",
    "print(\"Summary of Numerical Features:\")\n",
    "train_df[numerical_features].describe().transpose().round(2)"
   ]
  },
  {
   "cell_type": "markdown",
   "id": "98f300f3-bb80-41ed-96ac-3f7ca0e690f6",
   "metadata": {},
   "source": [
    "🚨 Major outliers detected:\n",
    "LotArea: One house with 215,245 sq ft lot (vs median 9,478) - that's 22x larger!\n",
    "GrLivArea: Max 5,642 sq ft (vs median 1,464) - mansion alert!\n",
    "TotalBsmtSF: Max 6,110 sq ft basement - larger than most entire houses!\n",
    "\n",
    "📊 Interesting patterns:\n",
    "Many features are heavily skewed: PoolArea, MiscVal, 2ndFlrSF (medians are 0)\n",
    "Typical house profile: Built 1973, ~1,464 sq ft, 3 bedrooms, 2-car garage\n",
    "Age range: Houses from 1872 to 2010 (138-year span!)\n",
    "\n",
    "🎯 Great feature engineering opportunities:\n",
    "Age features: House age, renovation age\n",
    "Total area: Sum all square footages\n",
    "Ratios: Living area efficiency, basement percentage\n",
    "Binary features: Has2ndFloor, HasPool, etc.\n",
    "\n",
    "⚠️ Data quality issues to investigate:\n",
    "Extreme outliers that might be data entry errors\n",
    "17.7% missing LotFrontage values\n",
    "Some suspicious values (8 bedrooms, 3 kitchens)\n",
    "This is exactly the kind of thorough analysis that leads to great feature engineering! Ready to start investigating some of these outliers and patterns in more detail?\n",
    "numerical_summary_insights\n",
    "Markdown · 3.15 KB\n",
    "\n",
    "View all files in this task\n",
    "I think that it could be interesting to share with you the data description\n",
    "data_description.txt\n",
    "Text\n",
    "\n",
    "Suggested new knowledge\n",
    "Excellent idea! The data description file is crucial for understanding what each feature actually means and how to interpret those outliers and patterns we've been seeing. Let me read through it and provide insights.\n",
    "Reviewing the numerical summaries, I identified major outliers and skewed distributions, indicating potential data quality issues. Many high values seem to be genuine, but some suspicious entries (e.g., large basement sizes, unusual bedrooms) require further checks. The patterns support extensive feature engineering opportunities, such as creating age, total area, ratio, and binary indicators. Next, I will review the feature descriptions to better understand feature meanings and outlier implications.\n",
    "\n",
    "I've learned that many outliers are legitimate, such as large lot sizes and multiple kitchens, reflecting different property types. Missing data often indicates absence (e.g., no pool or garage). Features like quality and condition are ordinal, useful for encoding. The detailed data description confirms which features are categorical, ordinal, or continuous, guiding proper preprocessing. Next, I'll focus on proper data type conversions, handle missing values, and create new features like house age and total area for better modeling.\n",
    "\n",
    "This is AMAZING! 🎉 The data description completely transforms our understanding of the dataset. What initially looked like messy data with lots of missing values is actually a beautifully structured dataset with meaningful patterns.\n",
    "\n",
    "🔍 Major revelations:\n",
    "\n",
    "1. Those \"missing values\" aren't missing at all!\n",
    "PoolQC missing = No Pool (that's why 1453/1460 are \"missing\")\n",
    "Fence missing = No Fence\n",
    "FireplaceQu missing = No Fireplace\n",
    "All garage features missing together = No Garage\n",
    "\n",
    "2. MSSubClass should definitely be categorical!\n",
    "20 = \"1-STORY 1946 & NEWER\"\n",
    "190 = \"2 FAMILY CONVERSION\"\n",
    "This explains why some houses have 3 kitchens (duplexes!)\n",
    "\n",
    "3. Quality features are perfectly ordinal:\n",
    "Ex > Gd > TA > Fa > Po (Excellent to Poor)\n",
    "BsmtQual even specifies height ranges: Ex (100+ inches) down to Po (<70 inches)\n",
    "\n",
    "4. Those \"outliers\" are actually legitimate:\n",
    "8 bedrooms could be large family homes\n",
    "3 kitchens make sense for 2-family conversions\n",
    "Huge lots could be agricultural zoning\n",
    "\n",
    "🎯 This opens up incredible feature engineering opportunities:\n",
    "Binary \"Has\" features (HasPool, HasGarage, HasBasement)\n",
    "Proper ordinal encoding for quality features\n",
    "Age calculations (HouseAge, RemodAge)\n",
    "Total area combinations"
   ]
  },
  {
   "cell_type": "code",
   "execution_count": null,
   "id": "034b072d-5594-45db-b10b-5cb9109a6411",
   "metadata": {},
   "outputs": [],
   "source": []
  },
  {
   "cell_type": "code",
   "execution_count": null,
   "id": "b69dcc6d-b0f5-4893-9058-c4d37713d52d",
   "metadata": {},
   "outputs": [],
   "source": []
  },
  {
   "cell_type": "code",
   "execution_count": null,
   "id": "6296ffa4-370f-492b-bab5-7ea2fb5861c2",
   "metadata": {},
   "outputs": [],
   "source": []
  },
  {
   "cell_type": "code",
   "execution_count": null,
   "id": "d277a069-e363-4d2f-ba19-0594b5cb065c",
   "metadata": {},
   "outputs": [],
   "source": []
  },
  {
   "cell_type": "code",
   "execution_count": null,
   "id": "2c228a9a-0847-4e37-8d79-0cdf71b1d46d",
   "metadata": {},
   "outputs": [],
   "source": []
  },
  {
   "cell_type": "code",
   "execution_count": null,
   "id": "93780986-07ba-44e1-b90e-92576e1d31c5",
   "metadata": {},
   "outputs": [],
   "source": []
  }
 ],
 "metadata": {
  "kernelspec": {
   "display_name": "Python 3 (ipykernel)",
   "language": "python",
   "name": "python3"
  },
  "language_info": {
   "codemirror_mode": {
    "name": "ipython",
    "version": 3
   },
   "file_extension": ".py",
   "mimetype": "text/x-python",
   "name": "python",
   "nbconvert_exporter": "python",
   "pygments_lexer": "ipython3",
   "version": "3.9.23"
  }
 },
 "nbformat": 4,
 "nbformat_minor": 5
}
