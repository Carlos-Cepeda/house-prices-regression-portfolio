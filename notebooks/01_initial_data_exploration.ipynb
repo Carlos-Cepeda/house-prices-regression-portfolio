{
 "cells": [
  {
   "cell_type": "markdown",
   "id": "96796992-48a1-49cd-ae4b-158c5bfcae47",
   "metadata": {
    "editable": true,
    "slideshow": {
     "slide_type": ""
    },
    "tags": []
   },
   "source": [
    "#### Import Libraries and Load Data"
   ]
  },
  {
   "cell_type": "code",
   "execution_count": null,
   "id": "c7f1aaf6-4211-43d0-97b8-b641f0aa0c94",
   "metadata": {},
   "outputs": [],
   "source": [
    "# Import essential libraries\n",
    "import pandas as pd\n",
    "import numpy as np\n",
    "import matplotlib.pyplot as plt\n",
    "import seaborn as sns\n",
    "\n",
    "# Set up plotting\n",
    "plt.style.use('default')\n",
    "sns.set_palette(\"Blues_r\")\n",
    "%matplotlib inline\n",
    "\n",
    "# Display options for better output\n",
    "pd.set_option('display.max_columns', None)\n",
    "pd.set_option('display.width', None)\n",
    "pd.set_option('display.max_colwidth', None)"
   ]
  },
  {
   "cell_type": "markdown",
   "id": "678fbfe0-db5e-4fcf-9d2f-8ebbc446c568",
   "metadata": {},
   "source": [
    "#### Load the Data"
   ]
  },
  {
   "cell_type": "code",
   "execution_count": null,
   "id": "01325533-5443-490c-ab95-2865777a3320",
   "metadata": {},
   "outputs": [],
   "source": [
    "# Load the training and test datasets\n",
    "train_df = pd.read_csv('../data/train.csv')\n",
    "test_df = pd.read_csv('../data/test.csv')\n",
    "\n",
    "print(f\"Training data shape: {train_df.shape}\")\n",
    "print(f\"Test data shape: {test_df.shape}\")"
   ]
  },
  {
   "cell_type": "markdown",
   "id": "4f56c402-c9e5-4020-9104-60eed87cfcc3",
   "metadata": {},
   "source": [
    "#### Show data"
   ]
  },
  {
   "cell_type": "code",
   "execution_count": null,
   "id": "c2ffbdbd-27ba-4b45-ae33-46f2e386b964",
   "metadata": {},
   "outputs": [],
   "source": [
    "print('First 5 rows of training data')\n",
    "train_df.head()"
   ]
  },
  {
   "cell_type": "markdown",
   "id": "e9362a38-97da-4fef-a61f-b2b8aee0a344",
   "metadata": {},
   "source": [
    "#### Basic Dataset Information"
   ]
  },
  {
   "cell_type": "code",
   "execution_count": null,
   "id": "f0256ced-9b18-47ff-bc53-224a3ae1fc81",
   "metadata": {},
   "outputs": [],
   "source": [
    "# Get basic information about the dataset\n",
    "print(\"Dataset Info:\")\n",
    "print(f\"Number of features: {len(train_df.columns)}\")\n",
    "print(f\"Number of training samples: {len(train_df)}\")\n",
    "print(f\"Number of test samples: {len(test_df)}\")\n",
    "\n",
    "print(\"\\nColumn names:\")\n",
    "print(train_df.columns.tolist())"
   ]
  },
  {
   "cell_type": "markdown",
   "id": "bfe1a3bd-51ff-4043-bc2a-738c574245ba",
   "metadata": {},
   "source": [
    "#### Analyze the Target Variable (SalePrice)"
   ]
  },
  {
   "cell_type": "code",
   "execution_count": null,
   "id": "123d04ac-b4b3-4aa2-88f8-706c12aa1b55",
   "metadata": {},
   "outputs": [],
   "source": [
    "# Describe the target variable (SalePrice)\n",
    "print(\"Description of SalePrice:\")\n",
    "print(train_df['SalePrice'].describe())\n",
    "\n",
    "# Visualize the distribution of SalePrice\n",
    "plt.figure(figsize=(10, 6))\n",
    "sns.histplot(train_df['SalePrice'], kde=True, bins=50)\n",
    "plt.title('Distribution of SalePrice')\n",
    "plt.xlabel('Sale Price')\n",
    "plt.ylabel('Frequency')\n",
    "plt.show()"
   ]
  },
  {
   "cell_type": "markdown",
   "id": "559c6c71-e6d9-4316-8013-9a86c4a90c0e",
   "metadata": {},
   "source": [
    "The SalePrice is heavily right-skewed (positively skewed).\n",
    "\n",
    "* What the data tells us:\n",
    "  \n",
    "      Mean ($180,921) > Median ($163,000): Classic sign of right skew\n",
    "      Long tail: Few very expensive houses (up to $755,000) pulling the mean higher\n",
    "      Most houses: Clustered in the $100,000-$250,000 range\n",
    "      Outliers: Several houses above $400,000\n",
    "\n",
    "* Why this matters for machine learning:\n",
    "\n",
    "      Model performance: Many algorithms assume normal distributions\n",
    "      Outlier sensitivity: Linear models can be heavily influenced by those expensive houses\n",
    "      Prediction accuracy: Skewed targets often lead to biased predictions\n",
    "\n",
    "\n",
    "\n",
    "* Next steps we'll need to consider:\n",
    "\n",
    "        Log transformation: log(SalePrice) often makes price data more normal\n",
    "        Outlier analysis: Investigate those very expensive houses\n",
    "        Feature engineering: Create features that capture price ranges"
   ]
  },
  {
   "cell_type": "code",
   "execution_count": null,
   "id": "7b72e8ab-0739-4a84-991a-ca4553e3574b",
   "metadata": {},
   "outputs": [],
   "source": [
    "# Check for missing values in the training data\n",
    "missing_values = train_df.isnull().sum()\n",
    "missing_values = missing_values[missing_values > 0].sort_values(ascending=False)\n",
    "\n",
    "# Display missing values\n",
    "print(\"Missing values in training data:\")\n",
    "print(missing_values)\n",
    "\n",
    "# Visualize the missing values\n",
    "plt.figure(figsize=(12, 6))\n",
    "missing_values.plot(kind='bar')\n",
    "plt.title('Features with Missing Values')\n",
    "plt.xlabel('Features')\n",
    "plt.ylabel('Number of Missing Values')\n",
    "plt.xticks(rotation=45)\n",
    "plt.tight_layout()\n",
    "plt.show()"
   ]
  },
  {
   "cell_type": "markdown",
   "id": "a8bae585-c7b0-4cc3-bbcd-562599d95c08",
   "metadata": {},
   "source": [
    "* Key insight: Most of these missing values indicate absence of features:\n",
    "\n",
    "\n",
    "      PoolQC missing = No pool\n",
    "      Alley missing = No alley access\n",
    "      Fence missing = No fence\n",
    "      FireplaceQu missing = No fireplace\n",
    "  \n",
    "* Notice the patterns:\n",
    "\n",
    "      Garage features (81 missing each) - same houses missing ALL garage info = No Garage\n",
    "      Basement features (37-38 missing each) - same houses missing ALL basement info = No Basement\n",
    "\n",
    "* This is feature engineering gold! Instead of treating these as problems, we can:\n",
    "\n",
    "      Fill missing values with meaningful categories like \"None\" or \"No Pool\"\n",
    "      Create binary features like \"HasPool\", \"HasGarage\", \"HasBasement\"\n",
    "      Use the absence/presence as predictive features"
   ]
  },
  {
   "cell_type": "markdown",
   "id": "aa7f7c13-dc53-4c4e-b2a1-1409af567b23",
   "metadata": {},
   "source": [
    "#### Look for Patterns in Missing Counts"
   ]
  },
  {
   "cell_type": "code",
   "execution_count": null,
   "id": "6b6742eb-9283-438e-8428-cd9c3af84853",
   "metadata": {},
   "outputs": [],
   "source": [
    "# grouped Missing Values\n",
    "# some features have EXACTLY the same number of missing values\n",
    "garage_features = ['GarageType', 'GarageYrBlt', 'GarageFinish', 'GarageQual', 'GarageCond']\n",
    "basement_features = ['BsmtFinType2', 'BsmtExposure', 'BsmtFinType1', 'BsmtCond', 'BsmtQual']"
   ]
  },
  {
   "cell_type": "code",
   "execution_count": null,
   "id": "f4960bdc-7bdb-47cb-9f16-c74ab395ab49",
   "metadata": {},
   "outputs": [],
   "source": [
    "# Investigate if Missing Values Occur Together\n",
    "# Are the same houses missing all garage features?\n",
    "garage_missing = train_df[garage_features].isnull()\n",
    "same_houses_missing_garage = garage_missing.all(axis=1).sum()\n",
    "any_house_missing_garage = garage_missing.any(axis=1).sum()\n",
    "\n",
    "print(f\"Houses missing ALL garage features: {same_houses_missing_garage}\")\n",
    "print(f\"Houses missing ANY garage feature: {any_house_missing_garage}\")\n",
    "\n",
    "# If these numbers are the same, it means missing values always occur together!"
   ]
  },
  {
   "cell_type": "code",
   "execution_count": null,
   "id": "5ae23457-8c1a-4c66-a13f-deba7a39a9bd",
   "metadata": {},
   "outputs": [],
   "source": []
  },
  {
   "cell_type": "code",
   "execution_count": null,
   "id": "91c5e254-82c1-4987-80b4-ab0d6a58c626",
   "metadata": {},
   "outputs": [],
   "source": [
    "# Are the same houses missing all garage features?\n",
    "basement_missing = train_df[basement_features].isnull()\n",
    "same_houses_missing_basement = basement_missing.all(axis=1).sum()\n",
    "any_house_missing_basement = basement_missing.any(axis=1).sum()\n",
    "\n",
    "print(f\"Houses missing ALL basement features: {same_houses_missing_basement}\")\n",
    "print(f\"Houses missing ANY basement feature: {any_house_missing_basement}\")\n",
    "\n",
    "# If these numbers are the same, it means missing values always occur together!"
   ]
  },
  {
   "cell_type": "code",
   "execution_count": null,
   "id": "d5223777-28c1-46c5-a990-f49f5d6281e4",
   "metadata": {},
   "outputs": [],
   "source": [
    "# Extremely High Missing Percentages\n",
    "# Calculate missing percentages\n",
    "missing_pct = (train_df.isnull().sum() / len(train_df)) * 100\n",
    "high_missing = missing_pct[missing_pct > 50]\n",
    "print(\"Features missing >50% of values:\")\n",
    "print(high_missing.sort_values(ascending=False))"
   ]
  },
  {
   "cell_type": "code",
   "execution_count": null,
   "id": "fefe8ced-c1f5-4c63-acac-68225dc15997",
   "metadata": {},
   "outputs": [],
   "source": [
    "# For features with many missing values, what are the actual values?\n",
    "high_missing_features = ['PoolQC', 'MiscFeature', 'Alley', 'Fence', 'FireplaceQu']\n",
    "\n",
    "for feature in high_missing_features:\n",
    "    print(f\"\\n{feature} - Unique values:\")\n",
    "    print(train_df[feature].value_counts(dropna=False))\n",
    "    print(f\"Missing: {train_df[feature].isnull().sum()}/{len(train_df)} ({train_df[feature].isnull().sum()/len(train_df)*100:.1f}%)\")"
   ]
  },
  {
   "cell_type": "code",
   "execution_count": null,
   "id": "dc9712e9-8e46-40fb-ba8c-bb7d2a878524",
   "metadata": {
    "editable": true,
    "slideshow": {
     "slide_type": ""
    },
    "tags": []
   },
   "outputs": [],
   "source": [
    "# Pool investigation\n",
    "pool_df = train_df[train_df[\"PoolQC\"].isnull() == True]\n",
    "print(f\"PoolArea when PoolQC is null: {pool_df['PoolArea'].describe()}\")\n",
    "\n",
    "# Misc Features  investigation\n",
    "missing_misc = train_df[train_df['MiscFeature'].isnull()]\n",
    "print(f\"\\nMiscVal when MiscFeature missing: {missing_misc['MiscVal'].describe()}\")\n",
    "\n",
    "# Garage investigation  \n",
    "garage_df = train_df[train_df[garage_features].isnull().any(axis=1) == True]\n",
    "print(f\"\\nGarageCars when garage_features is null: {garage_df['GarageCars'].describe()}\")\n",
    "print(f\"GarageArea when garage_features is null: {garage_df['GarageArea'].describe()}\")\n",
    "\n",
    "# Basement investigation  \n",
    "basement_df = train_df[train_df[basement_features].isnull().any(axis=1) == True]\n",
    "print(f\"\\nBsmtUnfSF when basement_features is null: {basement_df['BsmtUnfSF'].describe()}\")\n",
    "print(f\"BsmtFinSF1 when basement_features is null: {basement_df['BsmtFinSF1'].describe()}\")\n",
    "print(f\"BsmtFinSF2 when basement_features is null: {basement_df['BsmtFinSF2'].describe()}\")\n",
    "\n",
    "# Fireplace investigation\n",
    "fireplace_df = train_df[train_df[\"FireplaceQu\"].isnull() == True]\n",
    "print(f\"\\nFireplaces when FireplaceQu is null: {fireplace_df['Fireplaces'].describe()}\")\n",
    "\n",
    "# Masonery investigation\n",
    "masonery_df = train_df[train_df['MasVnrType'].isnull() == True]\n",
    "# print(f\"\\nMasonery Area when MasVnrType is null: {masonery_df[\"MasVnrArea\"].describe()}\")\n",
    "print(f\"\\nMasonery Area when MasVnrType is null: {masonery_df['MasVnrArea'].describe()}\")"
   ]
  },
  {
   "cell_type": "code",
   "execution_count": null,
   "id": "2afb8f8b-50f8-4e63-8f2d-f24e188b2a06",
   "metadata": {
    "editable": true,
    "slideshow": {
     "slide_type": ""
    },
    "tags": []
   },
   "outputs": [],
   "source": [
    "# missing values in any basement feature\n",
    "cond_missing = train_df[basement_features].isnull().any(axis=1)\n",
    "all_basement_features = [\"BsmtQual\", \"BsmtCond\", \"BsmtExposure\", \"BsmtFinType1\", \"BsmtFinSF1\", \"BsmtFinType2\", \"BsmtFinSF2\", \"BsmtUnfSF\"]\n",
    "\n",
    "# at least one of the area features > 0\n",
    "cond_area = (\n",
    "    (train_df[\"BsmtFinSF1\"] > 0) |\n",
    "    (train_df[\"BsmtFinSF2\"] > 0) |\n",
    "    (train_df[\"BsmtUnfSF\"] > 0)\n",
    ")\n",
    "\n",
    "# Combine both\n",
    "filtered = train_df[cond_missing & cond_area][all_basement_features]\n",
    "filtered"
   ]
  },
  {
   "cell_type": "markdown",
   "id": "9b36a17c-95c8-48fa-8f63-c8a38214d98a",
   "metadata": {},
   "source": [
    "* CONFIRMED (Sum = 0):\n",
    "\n",
    "        Pool: Missing PoolQC → PoolArea = 0 → No Pool\n",
    "        Garage: Missing garage features → GarageCars + GarageArea = 0 → No Garage\n",
    "        Fireplace: Missing FireplaceQu → Fireplaces = 0 → No Fireplace\n",
    "        Misc: Missing MiscFeature → MiscVal = 0 → No Misc Feature\n",
    "\n",
    "* ANOMALY DETECTED - Basements:\n",
    "\n",
    "        Missing basement quality features BUT still have basement square footage!\n",
    "        BsmtUnfSF = 2,539 sq ft (not zero!)\n",
    "        This suggests houses have basements but missing quality ratings"
   ]
  },
  {
   "cell_type": "code",
   "execution_count": null,
   "id": "80fa39ce-9e30-4630-9e32-995c67e1dccd",
   "metadata": {},
   "outputs": [],
   "source": [
    "# Masonry; Find the anomaly cases\n",
    "masonry_anomaly = train_df[\n",
    "    (train_df['MasVnrType'].isnull()) & \n",
    "    (train_df['MasVnrArea'] > 0)\n",
    "]\n",
    "print(f\"Houses with missing type but area > 0: {len(masonry_anomaly)}\")\n",
    "print(\"Their areas:\", masonry_anomaly['MasVnrArea'].tolist())"
   ]
  },
  {
   "cell_type": "code",
   "execution_count": null,
   "id": "1ab56ff6-0130-42eb-8d19-221b472c03f1",
   "metadata": {},
   "outputs": [],
   "source": []
  },
  {
   "cell_type": "markdown",
   "id": "517d9c72-3543-4b79-8262-890ac11c3041",
   "metadata": {},
   "source": [
    "#### \"None\" Filling"
   ]
  },
  {
   "cell_type": "code",
   "execution_count": null,
   "id": "5b80425f-39ea-4a3b-8856-5783b2a17b21",
   "metadata": {},
   "outputs": [],
   "source": [
    "# Define feature groups\n",
    "none_features = [\n",
    "    'PoolQC', 'GarageType', 'GarageFinish', 'GarageQual', 'GarageCond',\n",
    "    'FireplaceQu', 'MiscFeature', 'Alley', 'Fence'\n",
    "]\n",
    "\n",
    "# Fill categorical features with \"None\"\n",
    "for feature in none_features:\n",
    "    before_count = train_df[feature].isnull().sum()\n",
    "    train_df[feature] = train_df[feature].fillna('None')\n",
    "    after_count = train_df[feature].isnull().sum()\n",
    "    print(f\"{feature}: {before_count} → {after_count} missing values\")\n",
    "\n",
    "# Handle numerical garage year\n",
    "train_df['GarageYrBlt'] = train_df['GarageYrBlt'].fillna(0)\n",
    "\n",
    "# Verify results\n",
    "print(f\"\\nTotal missing values in 'None' features: {train_df[none_features].isnull().sum().sum()}\")"
   ]
  },
  {
   "cell_type": "code",
   "execution_count": null,
   "id": "aa690bde-ebe9-48e8-ad99-8f740c9de54e",
   "metadata": {},
   "outputs": [],
   "source": []
  },
  {
   "cell_type": "code",
   "execution_count": null,
   "id": "a373cfdd-05c6-4295-9cc4-eec615169005",
   "metadata": {},
   "outputs": [],
   "source": [
    "# basement\n",
    "# Check if remaining basement missing cases are truly \"No Basement\"\n",
    "basement_features = ['BsmtQual', 'BsmtCond', 'BsmtExposure', 'BsmtFinType1', 'BsmtFinType2']\n",
    "\n",
    "# Find houses missing ALL basement features\n",
    "all_missing = train_df[basement_features].isnull().all(axis=1)\n",
    "houses_no_basement = train_df[all_missing]\n",
    "\n",
    "# Check their TotalBsmtSF - should be 0 if truly no basement\n",
    "print(houses_no_basement['TotalBsmtSF'].describe())"
   ]
  },
  {
   "cell_type": "code",
   "execution_count": null,
   "id": "a468c99e-ce77-4197-b4a2-0c5cfbcec95b",
   "metadata": {},
   "outputs": [],
   "source": [
    "# Fill with \"None\" - they truly have no basement\n",
    "no_basement_mask = (\n",
    "    train_df[basement_features].isnull().all(axis=1) & \n",
    "    (train_df['TotalBsmtSF'] == 0)\n",
    ")\n",
    "for feature in basement_features:\n",
    "    train_df.loc[no_basement_mask, feature] = 'None'"
   ]
  },
  {
   "cell_type": "code",
   "execution_count": null,
   "id": "424bc002-27fb-401a-866c-3c64797a32e7",
   "metadata": {},
   "outputs": [],
   "source": [
    "# Fill with \"None\" - they truly have no masonery\n",
    "no_masonery_mask = (\n",
    "    train_df[\"MasVnrType\"].isnull() & \n",
    "    (train_df['MasVnrArea'] == 0)\n",
    ")\n",
    "\n",
    "train_df.loc[no_masonery_mask, \"MasVnrType\"] = 'None'"
   ]
  },
  {
   "cell_type": "code",
   "execution_count": null,
   "id": "7edf6b0f-2265-4310-a590-29bbfbe1ff66",
   "metadata": {},
   "outputs": [],
   "source": [
    "# Masonry area\n",
    "\n",
    "train_df[train_df['MasVnrArea'].isnull()][[\"MasVnrType\", \"MasVnrArea\"]]"
   ]
  },
  {
   "cell_type": "code",
   "execution_count": null,
   "id": "a492f9f3-1f4a-4896-8f89-dda361b913c1",
   "metadata": {},
   "outputs": [],
   "source": [
    "# Fill with \"None\" - null masonery area\n",
    "missing_both_mask = (\n",
    "    train_df[\"MasVnrType\"].isnull() & \n",
    "    (train_df['MasVnrArea'].isnull())\n",
    ")\n",
    "\n",
    "# Fill MasVnrType with 'None' for these houses\n",
    "train_df.loc[missing_both_mask, 'MasVnrType'] = 'None'\n",
    "\n",
    "# Fill MasVnrArea with 0 for these houses\n",
    "train_df.loc[missing_both_mask, 'MasVnrArea'] = 0"
   ]
  },
  {
   "cell_type": "code",
   "execution_count": null,
   "id": "887cdf9c-d5e4-4b82-a360-452ef5c848e0",
   "metadata": {},
   "outputs": [],
   "source": []
  },
  {
   "cell_type": "code",
   "execution_count": null,
   "id": "9cf0f5b5-4523-4cc4-83b7-8a73ee0e3e25",
   "metadata": {},
   "outputs": [],
   "source": [
    "# LotFrontage\n",
    "\n",
    "# Check the Correlation with `LotArea`\n",
    "\n",
    "# Is there a relationship between LotFrontage and LotArea?\n",
    "plt.figure(figsize=(10, 6))\n",
    "sns.scatterplot(x='LotArea', y='LotFrontage', data=train_df)\n",
    "plt.title('LotFrontage vs. LotArea')\n",
    "plt.xlabel('Lot Area (sq ft)')\n",
    "plt.ylabel('Lot Frontage (ft)')\n",
    "plt.show()\n",
    "\n",
    "correlation = train_df['LotFrontage'].corr(train_df['LotArea'])\n",
    "print(f\"Correlation between LotFrontage and LotArea: {correlation:.2f}\")"
   ]
  },
  {
   "cell_type": "markdown",
   "id": "d26d2a46-f72e-4a16-983a-37c6d09e63b3",
   "metadata": {},
   "source": [
    "positive correlation, but weak and noisy because `LotArea` is `width * depth`. A better proxy might be the square root of `LotArea`."
   ]
  },
  {
   "cell_type": "code",
   "execution_count": null,
   "id": "643148a1-c809-4878-b302-4615f0046831",
   "metadata": {},
   "outputs": [],
   "source": [
    "# Let's try correlating with the square root of LotArea\n",
    "correlation_sqrt = train_df['LotFrontage'].corr(np.sqrt(train_df['LotArea']))\n",
    "print(f\"Correlation with sqrt(LotArea): {correlation_sqrt:.2f}\")"
   ]
  },
  {
   "cell_type": "markdown",
   "id": "053a9edc-6cd3-4e5a-8025-e5ed9de86cf3",
   "metadata": {},
   "source": [
    "still weak correlation"
   ]
  },
  {
   "cell_type": "code",
   "execution_count": null,
   "id": "b3bfa670-9108-48dd-ac0d-367108a9d3ed",
   "metadata": {},
   "outputs": [],
   "source": [
    "# Analyze by `Neighborhood`\n",
    "\n",
    "# Calculate the median LotFrontage for each neighborhood\n",
    "neighborhood_lotfrontage = train_df.groupby('Neighborhood')['LotFrontage'].median().sort_values()\n",
    "\n",
    "print(\"Median LotFrontage by Neighborhood:\")\n",
    "print(neighborhood_lotfrontage)"
   ]
  },
  {
   "cell_type": "code",
   "execution_count": null,
   "id": "37235e34-2b2a-4230-8db7-efcc0964cd39",
   "metadata": {},
   "outputs": [],
   "source": [
    "plt.figure(figsize=(12, 8))\n",
    "neighborhood_lotfrontage.plot(kind='barh')\n",
    "plt.title('Median LotFrontage by Neighborhood')\n",
    "plt.xlabel('Median Lot Frontage (ft)')\n",
    "plt.ylabel('Neighborhood')\n",
    "plt.show()"
   ]
  },
  {
   "cell_type": "markdown",
   "id": "d94acfe9-78f2-458b-a2aa-d3bc20e801f8",
   "metadata": {},
   "source": [
    "Significant variation. Some neighborhoods (like 'MeadowV') will have smaller frontages, while others (like 'NoRidge') will have much larger ones. This confirms that `Neighborhood` is a very strong predictor for `LotFrontage`.\n",
    "\n",
    "impute the missing `LotFrontage` values using the median `LotFrontage` of each house's respective `Neighborhood`."
   ]
  },
  {
   "cell_type": "code",
   "execution_count": null,
   "id": "8b01e118-b6fe-4542-afdf-a74f615b3a7d",
   "metadata": {},
   "outputs": [],
   "source": [
    "# Impute missing LotFrontage with the median of its neighborhood\n",
    "\n",
    "print(f\"Missing LotFrontage before imputation: {train_df['LotFrontage'].isnull().sum()}\")\n",
    "\n",
    "# Use transform to fill missing values\n",
    "train_df['LotFrontage'] = train_df.groupby('Neighborhood')['LotFrontage']\\\n",
    "                                  .transform(lambda x: x.fillna(x.median()))\n",
    "\n",
    "print(f\"Missing LotFrontage after imputation: {train_df['LotFrontage'].isnull().sum()}\")"
   ]
  },
  {
   "cell_type": "code",
   "execution_count": null,
   "id": "79e6f869-0657-458d-8424-d5a22cbdc78f",
   "metadata": {},
   "outputs": [],
   "source": []
  },
  {
   "cell_type": "code",
   "execution_count": null,
   "id": "8b417775-fe54-470d-a639-16b69a0407b5",
   "metadata": {},
   "outputs": [],
   "source": [
    "# MasVnrType (5 missing)\n",
    "\n",
    "# Impute the 5 inconsistent MasVnrType cases with the mode\n",
    "\n",
    "# Find the mode (most common value)\n",
    "mas_vnr_type_mode = train_df[\"MasVnrType\"].mode()[0]\n",
    "\n",
    "# Fill the remaining missing values\n",
    "train_df[\"MasVnrType\"] = train_df[\"MasVnrType\"].fillna(mas_vnr_type_mode)"
   ]
  },
  {
   "cell_type": "code",
   "execution_count": null,
   "id": "dc9572a0-9c51-425d-9dec-7dd53b975ae7",
   "metadata": {},
   "outputs": [],
   "source": [
    "# BsmtExposure (1 missing) & `BsmtFinType2` (1 missing)\n",
    "\n",
    "# Impute the remaining basement inconsistencies with the mode\n",
    "\n",
    "# BsmtExposure\n",
    "if train_df[\"BsmtExposure\"].isnull().any():\n",
    "    bsmt_exposure_mode = train_df[\"BsmtExposure\"].mode()[0]\n",
    "    train_df[\"BsmtExposure\"] = train_df[\"BsmtExposure\"].fillna(bsmt_exposure_mode)\n",
    "\n",
    "# BsmtFinType2\n",
    "if train_df[\"BsmtFinType2\"].isnull().any():\n",
    "    bsmt_fin_type2_mode = train_df[\"BsmtFinType2\"].mode()[0]\n",
    "    train_df[\"BsmtFinType2\"] = train_df[\"BsmtFinType2\"].fillna(bsmt_fin_type2_mode)"
   ]
  },
  {
   "cell_type": "code",
   "execution_count": null,
   "id": "2130e7a4-ba9a-4703-9b9d-21aedad74870",
   "metadata": {},
   "outputs": [],
   "source": [
    "# Electrical (1 missing)\n",
    "\n",
    "# Impute the single missing Electrical value with the mode\n",
    "\n",
    "if train_df[\"Electrical\"].isnull().any():\n",
    "    electrical_mode = train_df[\"Electrical\"].mode()[0]\n",
    "    train_df[\"Electrical\"] = train_df[\"Electrical\"].fillna(electrical_mode)"
   ]
  },
  {
   "cell_type": "code",
   "execution_count": null,
   "id": "ca35a352-b19c-4566-978f-00cfc851a584",
   "metadata": {},
   "outputs": [],
   "source": []
  },
  {
   "cell_type": "code",
   "execution_count": null,
   "id": "7961c7d4-348d-4ba9-8624-4b79363daa8e",
   "metadata": {},
   "outputs": [],
   "source": [
    "train_df.isnull().sum().describe()"
   ]
  },
  {
   "cell_type": "code",
   "execution_count": null,
   "id": "fa029606-aecc-4c85-8273-c1c9fc4e39a2",
   "metadata": {},
   "outputs": [],
   "source": [
    "len(train_df.columns)"
   ]
  },
  {
   "cell_type": "code",
   "execution_count": null,
   "id": "48c274aa-f3fe-4e81-8de6-a3ae1597208a",
   "metadata": {},
   "outputs": [],
   "source": [
    "train_df.BsmtFinType1.unique()"
   ]
  },
  {
   "cell_type": "code",
   "execution_count": null,
   "id": "8be4826a-2e04-4f39-8862-6498316edccf",
   "metadata": {},
   "outputs": [],
   "source": []
  },
  {
   "cell_type": "markdown",
   "id": "921b1a06-2353-42b2-bec1-cee6c04a90dd",
   "metadata": {},
   "source": [
    "#### Separate Numerical and Categorical Features"
   ]
  },
  {
   "cell_type": "code",
   "execution_count": null,
   "id": "b067398c-6180-4bbe-9aeb-82960a227526",
   "metadata": {},
   "outputs": [],
   "source": [
    "# Get a list of numerical and categorical features\n",
    "numerical_features = train_df.select_dtypes(include=np.number).columns.tolist()\n",
    "categorical_features = train_df.select_dtypes(exclude=np.number).columns.tolist()\n",
    "\n",
    "print(f\"Numerical features ({len(numerical_features)}):\")\n",
    "print(numerical_features)\n",
    "print(\"\\n\" + \"-\"*50 + \"\\n\")\n",
    "print(f\"Categorical features ({len(categorical_features)}):\")\n",
    "print(categorical_features)"
   ]
  },
  {
   "cell_type": "markdown",
   "id": "144cc7a6-64dd-4c0b-b322-5bc8e2642049",
   "metadata": {},
   "source": [
    "Key insights:\n",
    "\n",
    "1.Some \"numerical\" features are actually categorical:\n",
    "\n",
    "    MSSubClass (building class codes) should probably be treated as categorical\n",
    "    OverallQual and OverallCond are ordinal ratings (1-10 scales)\n",
    "\n",
    "2.Rich feature engineering opportunities:\n",
    "\n",
    "    Age features: Calculate house age from YearBuilt, renovation age from YearRemodAdd\n",
    "    Area ratios: GrLivArea / LotArea for living space efficiency\n",
    "    Total features: Sum different area measurements\n",
    "    Binary features: HasPool, HasGarage, HasBasement from those missing values we found\n",
    "\n",
    "3.Many categorical features are actually ordinal:\n",
    "\n",
    "    Quality ratings (Poor → Fair → Good → Excellent) can be encoded numerically\n",
    "    This gives us flexibility in how we handle them\n",
    "\n",
    "5.The missing value patterns now make perfect sense:\n",
    "\n",
    "    Quality features missing = that feature doesn't exist on the house"
   ]
  },
  {
   "cell_type": "code",
   "execution_count": null,
   "id": "05848e05-bd38-4a93-a03f-521a9f27eb86",
   "metadata": {},
   "outputs": [],
   "source": []
  },
  {
   "cell_type": "markdown",
   "id": "95c7728d-315c-41d0-adf1-e01857e3b554",
   "metadata": {},
   "source": [
    "#### Feature Type Transformations"
   ]
  },
  {
   "cell_type": "code",
   "execution_count": null,
   "id": "2e40d21d-d390-4b96-b927-e6629a6584a2",
   "metadata": {},
   "outputs": [],
   "source": [
    "print(\"=== FEATURE TYPE TRANSFORMATIONS ===\")\n",
    "\n",
    "# 1. Convert MSSubClass to categorical\n",
    "train_df['MSSubClass'] = train_df['MSSubClass'].astype(str)\n",
    "\n",
    "# 2. Quality features to ordinal\n",
    "quality_features = ['ExterQual', 'ExterCond', 'BsmtQual', 'BsmtCond', 'HeatingQC', \n",
    "                   'KitchenQual', 'FireplaceQu', 'GarageQual', 'GarageCond', 'PoolQC']\n",
    "\n",
    "quality_mapping = {'None': 0, 'Po': 1, 'Fa': 2, 'TA': 3, 'Gd': 4, 'Ex': 5}\n",
    "\n",
    "for feature in quality_features:\n",
    "    if feature in train_df.columns:\n",
    "        train_df[feature + '_Ordinal'] = train_df[feature].map(quality_mapping)\n",
    "\n",
    "# 3. Basement exposure ordinal\n",
    "bsmt_exposure_mapping = {'None': 0, 'No': 1, 'Mn': 2, 'Av': 3, 'Gd': 4}\n",
    "train_df['BsmtExposure_Ordinal'] = train_df['BsmtExposure'].map(bsmt_exposure_mapping)\n",
    "\n",
    "# 4. Basement finish types ordinal  \n",
    "bsmt_finish_mapping = {'None': 0, 'Unf': 1, 'LwQ': 2, 'Rec': 3, 'BLQ': 4, 'ALQ': 5, 'GLQ': 6}\n",
    "for feature in ['BsmtFinType1', 'BsmtFinType2']:\n",
    "    if feature in train_df.columns:\n",
    "        train_df[feature + '_Ordinal'] = train_df[feature].map(bsmt_finish_mapping)\n",
    "\n",
    "print(\"Feature type transformations completed!\")\n",
    "\n",
    "# Verification\n",
    "print(f\"\\nNew ordinal features created: {len([col for col in train_df.columns if '_Ordinal' in col])}\")"
   ]
  },
  {
   "cell_type": "code",
   "execution_count": null,
   "id": "940fb018-6721-41e3-aef2-03962eb9f138",
   "metadata": {},
   "outputs": [],
   "source": []
  },
  {
   "cell_type": "code",
   "execution_count": null,
   "id": "185e570c-c0f4-46e1-bbaf-042c177bf25a",
   "metadata": {},
   "outputs": [],
   "source": [
    "# Get a list of numerical and categorical features - again to check\n",
    "numerical_features = train_df.select_dtypes(include=np.number).columns.tolist()\n",
    "categorical_features = train_df.select_dtypes(exclude=np.number).columns.tolist()\n",
    "\n",
    "print(f\"Numerical features ({len(numerical_features)}):\")\n",
    "print(numerical_features)\n",
    "print(\"\\n\" + \"-\"*50 + \"\\n\")\n",
    "print(f\"Categorical features ({len(categorical_features)}):\")\n",
    "print(categorical_features)"
   ]
  },
  {
   "cell_type": "markdown",
   "id": "60654c31-8f7c-446c-8dd9-49bfbcea1fb0",
   "metadata": {},
   "source": [
    "#### Summary of Numerical Features"
   ]
  },
  {
   "cell_type": "code",
   "execution_count": null,
   "id": "ae0f73dc-b3f6-4928-ac41-027bb93b6f4c",
   "metadata": {},
   "outputs": [],
   "source": [
    "# Get a summary of numerical features\n",
    "print(\"Summary of Numerical Features:\")\n",
    "train_df[numerical_features].describe().transpose().round(2)"
   ]
  },
  {
   "cell_type": "markdown",
   "id": "98f300f3-bb80-41ed-96ac-3f7ca0e690f6",
   "metadata": {},
   "source": [
    "🚨 Major outliers detected:\n",
    "LotArea: One house with 215,245 sq ft lot (vs median 9,478) - that's 22x larger!\n",
    "GrLivArea: Max 5,642 sq ft (vs median 1,464) - mansion alert!\n",
    "TotalBsmtSF: Max 6,110 sq ft basement - larger than most entire houses!\n",
    "\n",
    "📊 Interesting patterns:\n",
    "Many features are heavily skewed: PoolArea, MiscVal, 2ndFlrSF (medians are 0)\n",
    "Typical house profile: Built 1973, ~1,464 sq ft, 3 bedrooms, 2-car garage\n",
    "Age range: Houses from 1872 to 2010 (138-year span!)\n",
    "\n",
    "🎯 Great feature engineering opportunities:\n",
    "Age features: House age, renovation age\n",
    "Total area: Sum all square footages\n",
    "Ratios: Living area efficiency, basement percentage\n",
    "Binary features: Has2ndFloor, HasPool, etc.\n",
    "\n",
    "⚠️ Data quality issues to investigate:\n",
    "Extreme outliers that might be data entry errors\n",
    "17.7% missing LotFrontage values\n",
    "Some suspicious values (8 bedrooms, 3 kitchens)\n",
    "This is exactly the kind of thorough analysis that leads to great feature engineering! Ready to start investigating some of these outliers and patterns in more detail?\n",
    "numerical_summary_insights\n",
    "Markdown · 3.15 KB\n",
    "\n",
    "View all files in this task\n",
    "I think that it could be interesting to share with you the data description\n",
    "data_description.txt\n",
    "Text\n",
    "\n",
    "Suggested new knowledge\n",
    "Excellent idea! The data description file is crucial for understanding what each feature actually means and how to interpret those outliers and patterns we've been seeing. Let me read through it and provide insights.\n",
    "Reviewing the numerical summaries, I identified major outliers and skewed distributions, indicating potential data quality issues. Many high values seem to be genuine, but some suspicious entries (e.g., large basement sizes, unusual bedrooms) require further checks. The patterns support extensive feature engineering opportunities, such as creating age, total area, ratio, and binary indicators. Next, I will review the feature descriptions to better understand feature meanings and outlier implications.\n",
    "\n",
    "I've learned that many outliers are legitimate, such as large lot sizes and multiple kitchens, reflecting different property types. Missing data often indicates absence (e.g., no pool or garage). Features like quality and condition are ordinal, useful for encoding. The detailed data description confirms which features are categorical, ordinal, or continuous, guiding proper preprocessing. Next, I'll focus on proper data type conversions, handle missing values, and create new features like house age and total area for better modeling.\n",
    "\n",
    "This is AMAZING! 🎉 The data description completely transforms our understanding of the dataset. What initially looked like messy data with lots of missing values is actually a beautifully structured dataset with meaningful patterns.\n",
    "\n",
    "🔍 Major revelations:\n",
    "\n",
    "1. Those \"missing values\" aren't missing at all!\n",
    "PoolQC missing = No Pool (that's why 1453/1460 are \"missing\")\n",
    "Fence missing = No Fence\n",
    "FireplaceQu missing = No Fireplace\n",
    "All garage features missing together = No Garage\n",
    "\n",
    "2. MSSubClass should definitely be categorical!\n",
    "20 = \"1-STORY 1946 & NEWER\"\n",
    "190 = \"2 FAMILY CONVERSION\"\n",
    "This explains why some houses have 3 kitchens (duplexes!)\n",
    "\n",
    "3. Quality features are perfectly ordinal:\n",
    "Ex > Gd > TA > Fa > Po (Excellent to Poor)\n",
    "BsmtQual even specifies height ranges: Ex (100+ inches) down to Po (<70 inches)\n",
    "\n",
    "4. Those \"outliers\" are actually legitimate:\n",
    "8 bedrooms could be large family homes\n",
    "3 kitchens make sense for 2-family conversions\n",
    "Huge lots could be agricultural zoning\n",
    "\n",
    "🎯 This opens up incredible feature engineering opportunities:\n",
    "Binary \"Has\" features (HasPool, HasGarage, HasBasement)\n",
    "Proper ordinal encoding for quality features\n",
    "Age calculations (HouseAge, RemodAge)\n",
    "Total area combinations"
   ]
  },
  {
   "cell_type": "code",
   "execution_count": null,
   "id": "034b072d-5594-45db-b10b-5cb9109a6411",
   "metadata": {},
   "outputs": [],
   "source": []
  },
  {
   "cell_type": "markdown",
   "id": "19e0b4e1-f6a9-4bc8-8977-e64dc6029d6d",
   "metadata": {},
   "source": [
    "### Feature Engineering"
   ]
  },
  {
   "cell_type": "markdown",
   "id": "eff29f0e-e87b-4095-8bb3-42dcdbf6ebe2",
   "metadata": {},
   "source": [
    "#### Binary \"Has\" Features\n",
    "\n",
    "These features capture the presence/absence of important house amenities:\n",
    "\n",
    "* Justifications for Binary \"Has\" Features:\n",
    "\n",
    "Business Logic:\n",
    "\n",
    "    * Threshold effects: Pool vs no pool matters more than pool size differences\n",
    "    * Market segmentation: Buyers filter by \"must-have\" amenities\n",
    "    * Amenity premiums: Presence commands premium regardless of exact size\n",
    "\n",
    "Machine Learning Benefits:\n",
    "\n",
    "    * Captures non-linear relationships: 0→200 sq ft jump bigger than 200→400\n",
    "    * Robust to outliers: Binary immune to extreme values\n",
    "    * Feature interactions: HasPool * OverallQual = luxury premium\n",
    "    * Model interpretability: \"Houses with pools sell for $12K more\"\n",
    "\n",
    "Technical Advantages:\n",
    "\n",
    "    * Information preservation: Keep both binary AND continuous features\n",
    "    * Handles missing values: None → 0, Any value → 1\n",
    "    * Algorithm flexibility: Works well with all model types"
   ]
  },
  {
   "cell_type": "code",
   "execution_count": null,
   "id": "2080d446-77d8-49c5-a0f3-d5522c455e76",
   "metadata": {},
   "outputs": [],
   "source": []
  },
  {
   "cell_type": "code",
   "execution_count": null,
   "id": "2a5b1568-7f3d-4e5e-8780-544fb4e366ef",
   "metadata": {},
   "outputs": [],
   "source": [
    "print(\"=== CREATING POWERFUL NEW FEATURES ===\")\n",
    "\n",
    "# Set current year for age calculations\n",
    "current_year = 2023\n",
    "\n",
    "# 1. Binary \"Has\" Features\n",
    "train_df['HasPool'] = (train_df['PoolArea'] > 0).astype(int)\n",
    "train_df['HasGarage'] = (train_df['GarageArea'] > 0).astype(int)\n",
    "train_df['HasBasement'] = (train_df['TotalBsmtSF'] > 0).astype(int)\n",
    "train_df['HasFireplace'] = (train_df['Fireplaces'] > 0).astype(int)\n",
    "train_df['Has2ndFloor'] = (train_df['2ndFlrSF'] > 0).astype(int)\n",
    "train_df['HasMasVnr'] = (train_df['MasVnrArea'] > 0).astype(int)\n",
    "train_df['HasWoodDeck'] = (train_df['WoodDeckSF'] > 0).astype(int)\n",
    "train_df['HasOpenPorch'] = (train_df['OpenPorchSF'] > 0).astype(int)\n",
    "\n",
    "# 2. Age Features\n",
    "train_df['HouseAge'] = current_year - train_df['YearBuilt']\n",
    "train_df['YearsSinceRemod'] = current_year - train_df['YearRemodAdd']\n",
    "train_df['GarageAge'] = np.where(train_df['GarageYrBlt'] > 0, current_year - train_df['GarageYrBlt'], 0)\n",
    "train_df['WasRemodeled'] = (train_df['YearRemodAdd'] != train_df['YearBuilt']).astype(int)\n",
    "\n",
    "# 3. Total Area Features\n",
    "train_df['TotalSF'] = train_df['1stFlrSF'] + train_df['2ndFlrSF'] + train_df['TotalBsmtSF']\n",
    "train_df['TotalBath'] = (train_df['FullBath'] + train_df['HalfBath'] + \n",
    "                         train_df['BsmtFullBath'] + train_df['BsmtHalfBath'])\n",
    "train_df['TotalPorchSF'] = (train_df['OpenPorchSF'] + train_df['EnclosedPorch'] + \n",
    "                            train_df['3SsnPorch'] + train_df['ScreenPorch'])\n",
    "\n",
    "# 4. Ratio Features\n",
    "train_df['LivingAreaRatio'] = train_df['GrLivArea'] / train_df['LotArea']\n",
    "train_df['BasementRatio'] = np.where(train_df['TotalSF'] > 0, train_df['TotalBsmtSF'] / train_df['TotalSF'], 0)\n",
    "\n",
    "# 5. Quality Averages\n",
    "train_df['ExteriorQualityAvg'] = train_df[['ExterQual_Ordinal', 'ExterCond_Ordinal']].mean(axis=1)\n",
    "train_df['BasementQualityAvg'] = train_df[['BsmtQual_Ordinal', 'BsmtCond_Ordinal', 'BsmtExposure_Ordinal']].mean(axis=1)\n",
    "\n",
    "print(\"All powerful features created!\")\n",
    "\n",
    "# Count new features\n",
    "new_features = [col for col in train_df.columns if any(keyword in col for keyword in \n",
    "                ['Has', 'Age', 'Total', 'Ratio', 'Avg', 'Score', 'Years', 'Was'])]\n",
    "print(f\"Created {len(new_features)} new features!\")"
   ]
  },
  {
   "cell_type": "code",
   "execution_count": null,
   "id": "c56179a5-f31d-4fe9-9c71-3b137d00027f",
   "metadata": {},
   "outputs": [],
   "source": []
  },
  {
   "cell_type": "code",
   "execution_count": null,
   "id": "e4bb9701-b541-4317-9fb8-078787860f16",
   "metadata": {},
   "outputs": [],
   "source": [
    "# Get a list of numerical and categorical features - again to check\n",
    "numerical_features = train_df.select_dtypes(include=np.number).columns.tolist()\n",
    "categorical_features = train_df.select_dtypes(exclude=np.number).columns.tolist()\n",
    "\n",
    "print(f\"Numerical features ({len(numerical_features)}):\")\n",
    "print(numerical_features)\n",
    "print(\"\\n\" + \"-\"*50 + \"\\n\")\n",
    "print(f\"Categorical features ({len(categorical_features)}):\")\n",
    "print(categorical_features)"
   ]
  },
  {
   "cell_type": "code",
   "execution_count": null,
   "id": "a8f4c5a4-2fdc-4d85-b04b-6ced4ffc2151",
   "metadata": {},
   "outputs": [],
   "source": []
  },
  {
   "cell_type": "code",
   "execution_count": null,
   "id": "0e16e2dd-b827-45f7-86db-566f4b934fd0",
   "metadata": {},
   "outputs": [],
   "source": [
    "# Get a summary of numerical features\n",
    "pd.set_option('display.max_rows', None)\n",
    "\n",
    "print(\"Summary of Numerical Features:\")\n",
    "train_df[numerical_features].describe().transpose().round(2)"
   ]
  },
  {
   "cell_type": "code",
   "execution_count": null,
   "id": "735eafb4-e924-44d7-a7cf-a2175820f14f",
   "metadata": {},
   "outputs": [],
   "source": [
    "    "
   ]
  },
  {
   "cell_type": "code",
   "execution_count": null,
   "id": "38c8b45f-0875-48e2-80a5-24269187bc0f",
   "metadata": {},
   "outputs": [],
   "source": [
    "# Save the cleaned and engineered dataset\n",
    "train_df.to_csv('../data/train_cleaned.csv', index=False)\n",
    "print(f\"Cleaned dataset saved: {train_df.shape}\")"
   ]
  },
  {
   "cell_type": "code",
   "execution_count": null,
   "id": "f16a40b5-dbd9-4fcf-a9c6-1f949b5245b0",
   "metadata": {},
   "outputs": [],
   "source": []
  },
  {
   "cell_type": "code",
   "execution_count": null,
   "id": "5492b89b-324f-4ab1-8446-ccaec95c9707",
   "metadata": {},
   "outputs": [],
   "source": []
  }
 ],
 "metadata": {
  "kernelspec": {
   "display_name": "Python 3 (ipykernel)",
   "language": "python",
   "name": "python3"
  },
  "language_info": {
   "codemirror_mode": {
    "name": "ipython",
    "version": 3
   },
   "file_extension": ".py",
   "mimetype": "text/x-python",
   "name": "python",
   "nbconvert_exporter": "python",
   "pygments_lexer": "ipython3",
   "version": "3.9.23"
  }
 },
 "nbformat": 4,
 "nbformat_minor": 5
}
