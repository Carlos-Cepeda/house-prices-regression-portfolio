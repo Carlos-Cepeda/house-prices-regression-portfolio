{
 "cells": [
  {
   "cell_type": "markdown",
   "id": "22c7be3d-cda5-4176-8256-7e5234d388ba",
   "metadata": {},
   "source": [
    "#### Import Libraries"
   ]
  },
  {
   "cell_type": "code",
   "execution_count": null,
   "id": "fa16a4e1-71a5-4142-97b7-487e80a458e0",
   "metadata": {},
   "outputs": [],
   "source": [
    "# Import essential libraries for modeling\n",
    "import pandas as pd\n",
    "import numpy as np\n",
    "import matplotlib.pyplot as plt\n",
    "import seaborn as sns\n",
    "from scipy import stats\n",
    "from scipy.stats import norm, skew\n",
    "import warnings\n",
    "warnings.filterwarnings('ignore')\n",
    "\n",
    "# Machine Learning libraries\n",
    "from sklearn.model_selection import train_test_split, cross_val_score, GridSearchCV\n",
    "from sklearn.preprocessing import StandardScaler, LabelEncoder\n",
    "from sklearn.linear_model import LinearRegression, Ridge, Lasso, ElasticNet\n",
    "from sklearn.ensemble import RandomForestRegressor, GradientBoostingRegressor\n",
    "from sklearn.metrics import mean_squared_error, r2_score, mean_absolute_error\n",
    "from sklearn.feature_selection import SelectKBest, f_regression\n",
    "from statsmodels.stats.outliers_influence import variance_inflation_factor\n",
    "\n",
    "# Set plotting style\n",
    "plt.style.use('default')\n",
    "sns.set_palette(\"viridis\")\n",
    "plt.rcParams['figure.figsize'] = (12, 8)\n",
    "plt.rcParams['font.size'] = 11\n",
    "\n",
    "print(\"All libraries imported successfully!\")\n",
    "print(f\"Pandas version: {pd.__version__}\")\n",
    "print(f\"NumPy version: {np.__version__}\")"
   ]
  },
  {
   "cell_type": "code",
   "execution_count": null,
   "id": "48f36855-0b4e-4021-bb67-501cbae63f11",
   "metadata": {},
   "outputs": [],
   "source": []
  },
  {
   "cell_type": "markdown",
   "id": "cfa85f23-d807-4c05-b27c-041a98534de3",
   "metadata": {},
   "source": [
    "####  Load and Examine Cleaned Dataset"
   ]
  },
  {
   "cell_type": "code",
   "execution_count": null,
   "id": "3d510253-2f8d-4405-95e1-74402ce169ff",
   "metadata": {},
   "outputs": [],
   "source": [
    "# Load the cleaned dataset\n",
    "df = pd.read_csv('../data/train_cleaned.csv', keep_default_na=False, na_values=[])\n",
    "\n",
    "print(\"Dataset Overview:\")\n",
    "print(f\"Shape: {df.shape}\")\n",
    "print(f\"Missing values: {df.isnull().sum().sum()}\")\n",
    "\n",
    "# Display basic info\n",
    "print(f\"\\nData Types:\")\n",
    "print(f\"Numerical features: {len(df.select_dtypes(include=[np.number]).columns)}\")\n",
    "print(f\"Categorical features: {len(df.select_dtypes(exclude=[np.number]).columns)}\")\n",
    "\n",
    "# Show first few rows\n",
    "print(f\"\\nFirst 3 rows:\")\n",
    "df.head(3)"
   ]
  },
  {
   "cell_type": "code",
   "execution_count": null,
   "id": "ef6dd1f1-d2fc-4080-8d67-60c39b53bccd",
   "metadata": {},
   "outputs": [],
   "source": []
  },
  {
   "cell_type": "markdown",
   "id": "26c28543-6a60-407f-a62a-c36190826eae",
   "metadata": {},
   "source": [
    "#### Correlation Analysis with Target Variable"
   ]
  },
  {
   "cell_type": "code",
   "execution_count": null,
   "id": "29f4106c-4099-414f-b5f9-91ad76ee3f31",
   "metadata": {},
   "outputs": [],
   "source": [
    "# Select only numerical features for correlation analysis\n",
    "numerical_features = df.select_dtypes(include=[np.number]).columns.tolist()\n",
    "print(f\"Found {len(numerical_features)} numerical features\")\n",
    "\n",
    "# Calculate correlation with target variable (SalePrice) - numerical features only\n",
    "correlations = df[numerical_features].corr()['SalePrice'].sort_values(ascending=False)\n",
    "\n",
    "print(\"\\nTOP 15 FEATURES MOST CORRELATED WITH SALEPRICE:\")\n",
    "print(\"=\" * 55)\n",
    "top_15 = correlations.head(16)[1:]  # Exclude SalePrice itself\n",
    "for feature, corr in top_15.items():\n",
    "    print(f\"{feature:<25} {corr:>8.3f}\")\n",
    "\n",
    "print(f\"\\nTOP 10 NEGATIVE CORRELATIONS:\")\n",
    "print(\"=\" * 55)\n",
    "bottom_10 = correlations.tail(10)\n",
    "for feature, corr in bottom_10.items():\n",
    "    print(f\"{feature:<25} {corr:>8.3f}\")\n",
    "\n",
    "print(f\"\\nStrong correlations (|r| > 0.5): {len(correlations[correlations.abs() > 0.5]) - 1}\")\n",
    "print(f\"Moderate correlations (0.3 < |r| < 0.5): {len(correlations[(correlations.abs() > 0.3) & (correlations.abs() <= 0.5)])}\")"
   ]
  },
  {
   "cell_type": "markdown",
   "id": "fc33b513-6b8e-4fcd-a8a6-4fdeda23c083",
   "metadata": {},
   "source": [
    "TOP PERFORMERS:\n",
    "\n",
    "    TotalSF (0.782) - engineered total square footage feature is #2\n",
    "\n",
    "    TotalBath (0.613) - bathroom count feature made top 10\n",
    "\n",
    "    ExteriorQualityAvg (0.590) - quality average is working great\n",
    "\n",
    "\n",
    "KEY INSIGHTS:\n",
    "    \n",
    "    20 strong correlations (|r| > 0.5) - Excellent feature set\n",
    "\n",
    "    Quality features dominate - OverallQual, ExterQual_Ordinal, KitchenQual_Ordinal\n",
    "\n",
    "    Size matters most - TotalSF, GrLivArea, GarageArea all high\n",
    "\n",
    "    Age is negative - Older houses worth less (HouseAge: -0.523)"
   ]
  },
  {
   "cell_type": "code",
   "execution_count": null,
   "id": "51715a4a-07ca-45ed-91e2-878f45baf6aa",
   "metadata": {},
   "outputs": [],
   "source": []
  },
  {
   "cell_type": "markdown",
   "id": "3f2e5a91-1312-4311-b664-31353c6cf8f5",
   "metadata": {},
   "source": [
    "#### Analyze Your Engineered Features Performance"
   ]
  },
  {
   "cell_type": "code",
   "execution_count": null,
   "id": "b86c3fdb-f13c-44f7-9e9f-968a84270006",
   "metadata": {},
   "outputs": [],
   "source": [
    "# Identify and analyze engineered features\n",
    "engineered_features = ['TotalSF', 'TotalBath', 'TotalPorchSF', 'HouseAge', 'YearsSinceRemod', \n",
    "                      'GarageAge', 'WasRemodeled', 'LivingAreaRatio', 'BasementRatio',\n",
    "                      'ExteriorQualityAvg', 'BasementQualityAvg', 'HasPool', 'HasGarage', \n",
    "                      'HasBasement', 'HasFireplace', 'Has2ndFloor', 'HasMasVnr', \n",
    "                      'HasWoodDeck', 'HasOpenPorch']\n",
    "\n",
    "# Get correlations for engineered features\n",
    "eng_correlations = correlations[engineered_features].sort_values(ascending=False, key=abs)\n",
    "\n",
    "print(\"ENGINEERED FEATURES PERFORMANCE:\")\n",
    "print(\"=\" * 55)\n",
    "for feature, corr in eng_correlations.items():\n",
    "    status = \"🔥\" if abs(corr) > 0.5 else \"✅\" if abs(corr) > 0.3 else \"📊\"\n",
    "    print(f\"{status} {feature:<20} {corr:>8.3f}\")\n",
    "\n",
    "print(f\"\\nEngineered features with strong correlation: {len(eng_correlations[eng_correlations.abs() > 0.5])}\")\n",
    "print(f\"Engineered features with moderate correlation: {len(eng_correlations[(eng_correlations.abs() > 0.3) & (eng_correlations.abs() <= 0.5)])}\")\n"
   ]
  },
  {
   "cell_type": "markdown",
   "id": "deb852b2-f20a-47df-a61c-f9351edbba28",
   "metadata": {},
   "source": [
    "STAR PERFORMERS:\n",
    "\n",
    "    TotalSF (0.782) - best engineered feature!\n",
    "\n",
    "    TotalBath (0.613) - Bathroom count is highly predictive\n",
    "\n",
    "    Quality averages - Both exterior and basement quality averages work great\n",
    "\n",
    "    Age features - Negative correlations make perfect sense (newer = more valuable)"
   ]
  },
  {
   "cell_type": "code",
   "execution_count": null,
   "id": "7837b199-ce29-4558-b92c-b3baffef5bea",
   "metadata": {},
   "outputs": [],
   "source": []
  },
  {
   "cell_type": "markdown",
   "id": "ddc2c393-61f2-4d7c-a5db-f8b802914afb",
   "metadata": {},
   "source": [
    "#### Visualize Top Correlations"
   ]
  },
  {
   "cell_type": "code",
   "execution_count": null,
   "id": "e777ab2f-97c1-423d-bd13-f4c05b3640d0",
   "metadata": {},
   "outputs": [],
   "source": [
    "# Create correlation visualization\n",
    "fig, (ax1, ax2) = plt.subplots(1, 2, figsize=(20, 8))\n",
    "\n",
    "# Top positive correlations\n",
    "top_positive = correlations.head(16)[1:]  # Exclude SalePrice itself\n",
    "top_positive.plot(kind='barh', ax=ax1, color='skyblue')\n",
    "ax1.set_title('Top 15 Positive Correlations with SalePrice', fontsize=14, fontweight='bold')\n",
    "ax1.set_xlabel('Correlation Coefficient')\n",
    "ax1.grid(axis='x', alpha=0.3)\n",
    "\n",
    "# Top negative correlations\n",
    "top_negative = correlations.tail(10)\n",
    "top_negative.plot(kind='barh', ax=ax2, color='lightcoral')\n",
    "ax2.set_title('Top 10 Negative Correlations with SalePrice', fontsize=14, fontweight='bold')\n",
    "ax2.set_xlabel('Correlation Coefficient')\n",
    "ax2.grid(axis='x', alpha=0.3)\n",
    "\n",
    "plt.tight_layout()\n",
    "plt.show()\n",
    "\n",
    "# Summary statistics\n",
    "print(f\"CORRELATION ANALYSIS SUMMARY:\")\n",
    "print(f\"   • Total numerical features analyzed: {len(correlations)-1}\")\n",
    "print(f\"   • Strong positive correlations (r > 0.5): {len(correlations[correlations > 0.5])-1}\")\n",
    "print(f\"   • Strong negative correlations (r < -0.5): {len(correlations[correlations < -0.5])}\")\n",
    "print(f\"   • Your engineered features in top 15: {len([f for f in top_positive.index if f in engineered_features])}\")\n"
   ]
  },
  {
   "cell_type": "markdown",
   "id": "b857ff6f-48ea-4c80-a3be-a04361391170",
   "metadata": {},
   "source": [
    "KEY INSIGHTS FROM THE CHART:\n",
    "    \n",
    "    4 of the engineered features made it into the top 15 (TotalSF, TotalBath, ExteriorQualityAvg, BasementQualityAvg)\n",
    "    \n",
    "    TotalSF is #2 - best engineered feature, beating many original features\n",
    "    \n",
    "    Age features dominate negatives - HouseAge and YearsSinceRemod are the strongest negative predictors"
   ]
  },
  {
   "cell_type": "code",
   "execution_count": null,
   "id": "a85daed4-d5fb-450e-a5d7-a1b066b60003",
   "metadata": {},
   "outputs": [],
   "source": []
  },
  {
   "cell_type": "markdown",
   "id": "ba512717-bebd-4de9-938e-57d61acc2ffd",
   "metadata": {},
   "source": [
    "#### Correlation Heatmap for Top Features"
   ]
  },
  {
   "cell_type": "code",
   "execution_count": null,
   "id": "a30b27dc-6cb6-4d15-a6e6-2e22da56d86f",
   "metadata": {},
   "outputs": [],
   "source": [
    "# Create correlation heatmap for top features (excluding target)\n",
    "top_features = correlations.abs().sort_values(ascending=False).head(21).index.tolist()\n",
    "top_features.remove('SalePrice')  # Remove target variable\n",
    "\n",
    "print(f\"Analyzing multicollinearity among top {len(top_features)} features (excluding SalePrice)\")\n",
    "\n",
    "# Calculate correlation matrix for top features\n",
    "correlation_matrix = df[top_features].corr()\n",
    "\n",
    "# Create heatmap\n",
    "plt.figure(figsize=(16, 12))\n",
    "mask = np.triu(np.ones_like(correlation_matrix, dtype=bool))  # Mask upper triangle\n",
    "sns.heatmap(correlation_matrix, mask=mask, annot=True, cmap='RdYlBu_r', center=0,\n",
    "            square=True, linewidths=0.5, cbar_kws={\"shrink\": .8}, fmt='.2f')\n",
    "plt.title('Feature-to-Feature Correlation Heatmap - Top 20 Features', fontsize=16, fontweight='bold')\n",
    "plt.tight_layout()\n",
    "plt.show()\n",
    "# plt.savefig(\"correlation_heatmap.png\", dpi=300, bbox_inches='tight')\n",
    "\n",
    "# Identify highly correlated feature pairs (potential multicollinearity)\n",
    "high_corr_pairs = []\n",
    "for i in range(len(correlation_matrix.columns)):\n",
    "    for j in range(i+1, len(correlation_matrix.columns)):\n",
    "        corr_val = correlation_matrix.iloc[i, j]\n",
    "        if abs(corr_val) > 0.8:  # High correlation threshold\n",
    "            high_corr_pairs.append((correlation_matrix.columns[i], correlation_matrix.columns[j], corr_val))\n",
    "\n",
    "print(f\"\\nHIGH CORRELATION PAIRS (|r| > 0.8) - Potential Multicollinearity:\")\n",
    "for feat1, feat2, corr in high_corr_pairs:\n",
    "    print(f\"   {feat1} ↔ {feat2}: {corr:.3f}\")\n"
   ]
  },
  {
   "cell_type": "markdown",
   "id": "1004494e-4189-4186-a140-fa92d8b8304b",
   "metadata": {},
   "source": [
    "Strong correlations you found\n",
    "\n",
    "    TotalSF ↔ GrLivArea (0.874) → Not surprising: TotalSF includes both basement + above-ground area, while GrLivArea is above-ground only.\n",
    "\n",
    "    TotalSF ↔ TotalBsmtSF (0.827) and TotalSF ↔ 1stFlrSF (0.800) → Same story: TotalSF aggregates other features.\n",
    "\n",
    "    GrLivArea ↔ TotRmsAbvGrd (0.825) → Makes sense: more above-ground area usually means more rooms.\n",
    "\n",
    "    ExterQual_Ordinal ↔ ExteriorQualityAvg (0.855) and BsmtQual_Ordinal ↔ BasementQualityAvg (0.840) → These are engineered averages that directly include those ordinals → they should be correlated.\n",
    "    \n",
    "    GarageCars ↔ GarageArea (0.882) → Very strong: more garage spaces = more area. Redundant predictors.\n",
    "    \n",
    "    TotalBsmtSF ↔ 1stFlrSF (0.820) → Larger houses often have both big basements and big first floors.\n",
    "    \n",
    "    HouseAge ↔ YearBuilt (-1.000) → Perfect negative correlation because one is derived from the other.\n",
    "    \n",
    "    YearRemodAdd ↔ YearsSinceRemod (-1.000) → Same: perfect inverse because one is the complement of the other.\n",
    "\n",
    "What this means for your model\n",
    "\n",
    "    Multicollinearity alert : Features like TotalSF, GrLivArea, 1stFlrSF, and TotalBsmtSF are almost telling the same story. Linear models (like regression, Lasso, Ridge) could be unstable if we include all of them.\n",
    "    \n",
    "    Engineered features vs originals: For example, ExterQual_Ordinal and ExteriorQualityAvg → we probably only need one. Same for HouseAge vs YearBuilt.\n",
    "    \n",
    "    Tree-based models (Random Forest, XGBoost, LightGBM) are less sensitive, but even then, redundant features can dilute importance.\n",
    "\n",
    "In practice:\n",
    "\n",
    "    For linear models: drop some of the redundant ones or use regularization (Lasso).\n",
    "    \n",
    "    For tree models: we can keep them, but still worth pruning for efficiency.\n",
    "    \n",
    "    For feature selection: check Variance Inflation Factor (VIF) to confirm multicollinearity."
   ]
  },
  {
   "cell_type": "code",
   "execution_count": null,
   "id": "da16b532-c801-4b6e-9f9e-19d1bae3e264",
   "metadata": {},
   "outputs": [],
   "source": []
  },
  {
   "cell_type": "code",
   "execution_count": null,
   "id": "eb41b39e-867e-417f-adf6-576b07646506",
   "metadata": {},
   "outputs": [],
   "source": []
  },
  {
   "cell_type": "code",
   "execution_count": null,
   "id": "6e3c97e5-ef35-4bde-bfe4-d0998d03cbcc",
   "metadata": {},
   "outputs": [],
   "source": []
  },
  {
   "cell_type": "code",
   "execution_count": null,
   "id": "b1b96b09-68f4-4a86-b833-046fb69bf9c9",
   "metadata": {},
   "outputs": [],
   "source": []
  },
  {
   "cell_type": "code",
   "execution_count": null,
   "id": "6af24139-3219-4e24-8669-06b847e286fb",
   "metadata": {},
   "outputs": [],
   "source": []
  },
  {
   "cell_type": "markdown",
   "id": "ad441dee-df38-4e7b-87f2-e06370a50651",
   "metadata": {},
   "source": []
  }
 ],
 "metadata": {
  "kernelspec": {
   "display_name": "Python 3 (ipykernel)",
   "language": "python",
   "name": "python3"
  },
  "language_info": {
   "codemirror_mode": {
    "name": "ipython",
    "version": 3
   },
   "file_extension": ".py",
   "mimetype": "text/x-python",
   "name": "python",
   "nbconvert_exporter": "python",
   "pygments_lexer": "ipython3",
   "version": "3.9.23"
  }
 },
 "nbformat": 4,
 "nbformat_minor": 5
}
